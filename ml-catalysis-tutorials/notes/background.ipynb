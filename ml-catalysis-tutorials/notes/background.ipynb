{
 "cells": [
  {
   "cell_type": "markdown",
   "id": "c4d97939-b0ba-4c10-873f-55f34b2a59df",
   "metadata": {},
   "source": [
    "# Background!"
   ]
  },
  {
   "cell_type": "code",
   "execution_count": null,
   "id": "771ac155-0fc6-49f2-94d4-3a4f28a66ca2",
   "metadata": {},
   "outputs": [],
   "source": [
    "print('test!')"
   ]
  }
 ],
 "metadata": {
  "kernelspec": {
   "display_name": "Python 3 (ipykernel)",
   "language": "python",
   "name": "python3"
  },
  "language_info": {
   "codemirror_mode": {
    "name": "ipython",
    "version": 3
   },
   "file_extension": ".py",
   "mimetype": "text/x-python",
   "name": "python",
   "nbconvert_exporter": "python",
   "pygments_lexer": "ipython3",
   "version": "3.9.13"
  }
 },
 "nbformat": 4,
 "nbformat_minor": 5
}
