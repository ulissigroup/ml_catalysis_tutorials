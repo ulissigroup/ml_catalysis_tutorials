{
 "cells": [
  {
   "cell_type": "markdown",
   "id": "3fe3cbbd-1140-4056-b254-8118c419d8e0",
   "metadata": {
    "id": "Rzx0lArZJ6r0"
   },
   "source": [
    "# Using pre-trained OCP models as ASE calculators\n",
    "\n",
    "For those interested in using our pretrained models for other applications, we provide an [ASE](https://wiki.fysik.dtu.dk/ase/#:~:text=The%20Atomic%20Simulation%20Environment%20(ASE,under%20the%20GNU%20LGPL%20license.)-compatible Calculator to interface with ASE's functionality."
   ]
  },
  {
   "cell_type": "markdown",
   "id": "571534b6-9561-4173-a048-fc5b365be354",
   "metadata": {
    "id": "QGaXyeS_8yHp"
   },
   "source": [
    "## Download pretrained checkpoint\n",
    "\n",
    "We have released checkpoints of all the models on the leaderboard [here](https://github.com/Open-Catalyst-Project/ocp/blob/master/MODELS.md). These trained models can be used as an ASE calculator for various calculations.\n",
    "\n",
    "For this tutorial we download our current best model checkpoint: GemNet-T"
   ]
  },
  {
   "cell_type": "code",
   "execution_count": 1,
   "id": "e51562dc-1d66-4cc0-ac3e-13a05b544810",
   "metadata": {
    "id": "MBCRi69284Ve"
   },
   "outputs": [],
   "source": [
    "!wget -q -nc https://dl.fbaipublicfiles.com/opencatalystproject/models/2021_08/s2ef/gemnet_t_direct_h512_all.pt\n",
    "checkpoint_path = \"gemnet_t_direct_h512_all.pt\""
   ]
  },
  {
   "cell_type": "markdown",
   "id": "5217872a-c7a6-45cb-b0dd-04c5da595e5c",
   "metadata": {
    "id": "TNQ1dNVG93kH"
   },
   "source": [
    "## Using the OCP Calculator\n"
   ]
  },
  {
   "cell_type": "code",
   "execution_count": null,
   "id": "961c3a23-1422-432e-91a5-3fb7532bd0af",
   "metadata": {
    "id": "o_MHpzbhPKN_"
   },
   "outputs": [
    {
     "name": "stderr",
     "output_type": "stream",
     "text": [
      "fatal: detected dubious ownership in repository at '/opt/ocp'\n",
      "To add an exception for this directory, call:\n",
      "\n",
      "\tgit config --global --add safe.directory /opt/ocp\n"
     ]
    },
    {
     "name": "stdout",
     "output_type": "stream",
     "text": [
      "amp: false\n",
      "cmd:\n",
      "  checkpoint_dir: /home/jovyan/ml_catalysis_tutorials/ml-catalysis-tutorials/notes/checkpoints/2022-10-29-20-24-32\n",
      "  commit: null\n",
      "  identifier: ''\n",
      "  logs_dir: /home/jovyan/ml_catalysis_tutorials/ml-catalysis-tutorials/notes/logs/tensorboard/2022-10-29-20-24-32\n",
      "  print_every: 100\n",
      "  results_dir: /home/jovyan/ml_catalysis_tutorials/ml-catalysis-tutorials/notes/results/2022-10-29-20-24-32\n",
      "  seed: null\n",
      "  timestamp_id: 2022-10-29-20-24-32\n",
      "dataset: null\n",
      "gpus: 0\n",
      "logger: tensorboard\n",
      "model: gemnet_t\n",
      "model_attributes:\n",
      "  activation: silu\n",
      "  cbf:\n",
      "    name: spherical_harmonics\n",
      "  cutoff: 6.0\n",
      "  direct_forces: true\n",
      "  emb_size_atom: 512\n",
      "  emb_size_bil_trip: 64\n",
      "  emb_size_cbf: 16\n",
      "  emb_size_edge: 512\n",
      "  emb_size_rbf: 16\n",
      "  emb_size_trip: 64\n",
      "  envelope:\n",
      "    exponent: 5\n",
      "    name: polynomial\n",
      "  extensive: true\n",
      "  max_neighbors: 50\n",
      "  num_after_skip: 2\n",
      "  num_atom: 3\n",
      "  num_before_skip: 1\n",
      "  num_blocks: 3\n",
      "  num_concat: 1\n",
      "  num_radial: 128\n",
      "  num_spherical: 7\n",
      "  otf_graph: true\n",
      "  output_init: HeOrthogonal\n",
      "  rbf:\n",
      "    name: gaussian\n",
      "  regress_forces: true\n",
      "noddp: false\n",
      "optim:\n",
      "  batch_size: 32\n",
      "  clip_grad_norm: 10\n",
      "  ema_decay: 0.999\n",
      "  energy_coefficient: 1\n",
      "  eval_batch_size: 32\n",
      "  eval_every: 5000\n",
      "  factor: 0.8\n",
      "  force_coefficient: 100\n",
      "  loss_energy: mae\n",
      "  loss_force: l2mae\n",
      "  lr_initial: 0.0005\n",
      "  max_epochs: 80\n",
      "  mode: min\n",
      "  num_workers: 2\n",
      "  optimizer: AdamW\n",
      "  optimizer_params:\n",
      "    amsgrad: true\n",
      "  patience: 3\n",
      "  scheduler: ReduceLROnPlateau\n",
      "slurm: {}\n",
      "task:\n",
      "  dataset: trajectory_lmdb\n",
      "  description: Regressing to energies and forces for DFT trajectories from OCP\n",
      "  eval_on_free_atoms: true\n",
      "  grad_input: atomic forces\n",
      "  labels:\n",
      "  - potential energy\n",
      "  metric: mae\n",
      "  train_on_free_atoms: true\n",
      "  type: regression\n",
      "trainer: forces\n",
      "\n"
     ]
    }
   ],
   "source": [
    "import os\n",
    "\n",
    "import ase.io\n",
    "import numpy as np\n",
    "from ase.build import add_adsorbate, fcc100, molecule\n",
    "from ase.constraints import FixAtoms\n",
    "from ase.optimize import BFGS\n",
    "from ocpmodels.common.relaxation.ase_utils import OCPCalculator\n",
    "\n",
    "# Construct a sample structure\n",
    "adslab = fcc100(\"Cu\", size=(3, 3, 3))\n",
    "adsorbate = molecule(\"C3H8\")\n",
    "add_adsorbate(adslab, adsorbate, 3, offset=(1, 1))\n",
    "tags = np.zeros(len(adslab))\n",
    "tags[18:27] = 1\n",
    "tags[27:] = 2\n",
    "adslab.set_tags(tags)\n",
    "cons = FixAtoms(indices=[atom.index for atom in adslab if (atom.tag == 0)])\n",
    "adslab.set_constraint(cons)\n",
    "adslab.center(vacuum=13.0, axis=2)\n",
    "adslab.set_pbc(True)\n",
    "\n",
    "# Define the calculator\n",
    "calc = OCPCalculator(checkpoint=checkpoint_path)\n",
    "\n",
    "# Set up the calculator\n",
    "adslab.calc = calc\n",
    "\n",
    "os.makedirs(\"data/sample_ml_relax\", exist_ok=True)\n",
    "opt = BFGS(adslab, trajectory=\"data/sample_ml_relax/toy_c3h8_relax.traj\")\n",
    "\n",
    "opt.run(fmax=0.05, steps=100)"
   ]
  },
  {
   "cell_type": "code",
   "execution_count": null,
   "id": "ea4e4e56-d6d4-46de-a242-38245a02f43b",
   "metadata": {},
   "outputs": [],
   "source": [
    "import matplotlib.pyplot as plt\n",
    "from ase.visualize.plot import animate\n",
    "\n",
    "# the `index` argument corresponds to what frame of the trajectory to read in, specifiying \":\" reads in the full trajectory.\n",
    "traj = ase.io.read(\"data/sample_ml_relax/toy_c3h8_relax.traj\", index=\":\")\n",
    "anim = animate(traj, radii=0.8, rotation=(\"-75x, 45y, 10z\"))\n",
    "\n",
    "rc(\"animation\", html=\"jshtml\")\n",
    "anim"
   ]
  },
  {
   "cell_type": "code",
   "execution_count": null,
   "id": "8d13c15d-1138-4b83-b676-240401553388",
   "metadata": {},
   "outputs": [],
   "source": [
    "import pandas as pd\n",
    "import plotly.express as px\n",
    "\n",
    "energies = [\n",
    "    image.get_potential_energy()\n",
    "    for image in traj\n",
    "]\n",
    "\n",
    "df = pd.DataFrame({\"Relaxation Step\": range(len(energies)), \"GemNet-T Adsorption Energy [eV]\": energies})\n",
    "fig = px.line(df, x=\"Relaxation Step\", y=\"GemNet-T Adsorption Energy [eV]\")\n",
    "fig.show()"
   ]
  }
 ],
 "metadata": {
  "kernelspec": {
   "display_name": "Python 3 (ipykernel)",
   "language": "python",
   "name": "python3"
  },
  "language_info": {
   "codemirror_mode": {
    "name": "ipython",
    "version": 3
   },
   "file_extension": ".py",
   "mimetype": "text/x-python",
   "name": "python",
   "nbconvert_exporter": "python",
   "pygments_lexer": "ipython3",
   "version": "3.9.13"
  }
 },
 "nbformat": 4,
 "nbformat_minor": 5
}
