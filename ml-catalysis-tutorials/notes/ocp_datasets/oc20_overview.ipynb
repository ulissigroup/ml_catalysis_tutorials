{
 "cells": [
  {
   "cell_type": "markdown",
   "id": "2892e8c8-8f23-41fd-91f1-b799a7d0b43b",
   "metadata": {
    "id": "jXoiLncsU3pe"
   },
   "source": [
    "<a name=\"data-description\"></a>\n",
    "# Dataset Overview\n",
    "\n",
    "The Open Catalyst 2020 Dataset (OC20) will be used throughout this tutorial. More details can be found [here](https://github.com/Open-Catalyst-Project/ocp/blob/master/DATASET.md) and the corresponding [paper](https://arxiv.org/abs/2010.09990). Data is stored in PyTorch Geometric [Data](https://pytorch-geometric.readthedocs.io/en/latest/modules/data.html) objects and stored in LMDB files. For each task we include several sized training splits. Validation/Test splits are broken into several subsplits: In Domain (ID), Out of Domain Adsorbate (OOD-Ads), Out of Domain Catalyast (OOD-Cat) and Out of Domain Adsorbate and Catalyst (OOD-Both). Split sizes are summarized below:\n",
    "\n",
    "Train\n",
    "* S2EF - 200k, 2M, 20M, 134M(All)\n",
    "* IS2RE/IS2RS - 10k, 100k, 460k(All)\n",
    "\n",
    "Val/Test\n",
    "* S2EF - ~1M across all subsplits\n",
    "* IS2RE/IS2RS - ~25k across all splits\n",
    "\n",
    "#### **Tutorial Use**\n",
    "\n",
    "For the sake of this tutorial we provide much smaller splits (100 train, 20 val for all tasks) to allow users to easily store, train, and predict across the various tasks. Please refer [here](https://github.com/Open-Catalyst-Project/ocp#download-data) for details on how to download the full datasets for general use.\n",
    "\n",
    " ![OC20 image](oc20_image.png)\n"
   ]
  },
  {
   "cell_type": "code",
   "execution_count": null,
   "id": "656b7741-5c76-46b7-b5ca-9f6bc4d53756",
   "metadata": {},
   "outputs": [],
   "source": []
  }
 ],
 "metadata": {
  "kernelspec": {
   "display_name": "Python 3 (ipykernel)",
   "language": "python",
   "name": "python3"
  },
  "language_info": {
   "codemirror_mode": {
    "name": "ipython",
    "version": 3
   },
   "file_extension": ".py",
   "mimetype": "text/x-python",
   "name": "python",
   "nbconvert_exporter": "python",
   "pygments_lexer": "ipython3",
   "version": "3.9.13"
  }
 },
 "nbformat": 4,
 "nbformat_minor": 5
}
