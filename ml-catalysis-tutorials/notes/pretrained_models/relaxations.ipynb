{
 "cells": [
  {
   "cell_type": "markdown",
   "id": "db847816-a7da-4d9e-8e00-4ad999983e76",
   "metadata": {
    "id": "y6Hx8JtXEbW-"
   },
   "source": [
    "# Adsorption energy calculations using a toy calculator\n",
    "\n",
    "A structural relaxation or structure optimization is the process of iteratively updating atom positions to find the atom positions that minimize the energy of the structure. Standard optimization methods are used in structural relaxations — below we use the Limited-Memory Broyden–Fletcher–Goldfarb–Shanno (LBFGS) algorithm. The step number, time, energy, and force max are printed at each optimization step. Each step is considered one example because it provides all the information we need to train models for the S2EF task and the entire set of steps is referred to as a trajectory. Visualizing intermediate structures or viewing the entire trajectory can be illuminating to understand what is physically happening and to look for problems in the simulation, especially when we run ML-driven relaxations. \n",
    "\n",
    "````{tip}\n",
    "Common problems one may look out for:\n",
    "* atoms excessively overlapping/colliding with each other\n",
    "* atoms flying off into random directions\n",
    "* the adsorbate molecule dissociating\n",
    "* the adsorbate desorbing from the surface\n",
    "* large changes to the surface indicating the surface is relaxed \n",
    "`````"
   ]
  },
  {
   "cell_type": "markdown",
   "id": "d98dd330-424e-49a0-a066-d1ebe3a026dd",
   "metadata": {},
   "source": [
    "## Setup and relaxation of a bare slab\n",
    "\n",
    "First, let's set up a bare Cu(100) surface. We'll use ASE to make the initial structure, and LBFGS to do a quick relaxation to find the lowest energy configuration. \n",
    "\n",
    "We'll fix the bottom couple layers of the copper surface to approximate a very thick copper slab and prevent the surface from moving. This is a very common trick in the catalysis community. \n",
    "\n",
    "For this demonstration, we'll use the Effective Medium Theory (EMT) calculator from ASE. It works pretty well for simple metal structures like Cu(100) and is very fast. However, it won't do a good job with the adsorbate later on in the example!"
   ]
  },
  {
   "cell_type": "code",
   "execution_count": null,
   "id": "a84e66bb-e9f1-4044-bcb2-4814a0395d3a",
   "metadata": {},
   "outputs": [],
   "source": [
    "import os\n",
    "\n",
    "import ase.io\n",
    "import numpy as np\n",
    "from ase import Atoms\n",
    "from ase.build import fcc100\n",
    "from ase.calculators.emt import EMT\n",
    "from ase.constraints import FixAtoms\n",
    "from ase.io import extxyz\n",
    "from ase.io.trajectory import Trajectory\n",
    "from ase.optimize import LBFGS\n",
    "\n",
    "# This cell sets up and runs a structural relaxation\n",
    "# of a Cu(100) surface. It uses ASE scripts to make the surface.\n",
    "# The actual surfaces in OC20 were prepared slightly differently.\n",
    "\n",
    "# Make the bare slab using an ASE helper script\n",
    "slab = fcc100(\"Cu\", size=(3, 3, 3))\n",
    "\n",
    "# Tag all slab atoms below surface as 0, surface as 1, adsorbate as 2\n",
    "tags = np.zeros(len(slab))\n",
    "tags[18:27] = 1\n",
    "slab.set_tags(tags)\n",
    "\n",
    "# Fixed atoms are prevented from moving during a structure relaxation.\n",
    "# We fix all slab atoms beneath the surface.\n",
    "cons = FixAtoms(indices=[atom.index for atom in slab if (atom.tag == 0)])\n",
    "slab.set_constraint(cons)\n",
    "slab.center(vacuum=13.0, axis=2)\n",
    "slab.set_pbc(True)\n",
    "\n",
    "# Set the toy calculator (EMT) so ASE knows how to get energies/forces\n",
    "# at each step\n",
    "slab.set_calculator(EMT())\n",
    "\n",
    "os.makedirs(\"data\", exist_ok=True)\n",
    "\n",
    "# Define structure optimizer - LBFGS. Run for 100 steps,\n",
    "# or if the max force on all atoms (fmax) is below 0 ev/A.\n",
    "# fmax is typically set to 0.01-0.05 eV/A,\n",
    "# for this demo however we run for the full 100 steps.\n",
    "\n",
    "dyn = LBFGS(slab, trajectory=\"data/Cu100.traj\")\n",
    "dyn.run(fmax=0.03, steps=100)\n",
    "\n",
    "traj = ase.io.read(\"data/Cu100.traj\", \":\")\n",
    "\n",
    "# convert traj format to extxyz format (used by OC20 dataset)\n",
    "columns = [\"symbols\", \"positions\", \"move_mask\", \"tags\"]\n",
    "with open(\"data/Cu100.extxyz\", \"w\") as f:\n",
    "    extxyz.write_xyz(f, traj, columns=columns)"
   ]
  },
  {
   "cell_type": "markdown",
   "id": "269c6444-3639-4312-b1d4-8aacd7317bd8",
   "metadata": {
    "id": "Kb77jRtz9fws"
   },
   "source": [
    "### Reading a trajectory"
   ]
  },
  {
   "cell_type": "code",
   "execution_count": null,
   "id": "3cbc18f7-102d-4bb3-a9b9-fb19fcadb0a6",
   "metadata": {
    "id": "mUbvcij59d6I"
   },
   "outputs": [],
   "source": [
    "identifier = \"Cu100.extxyz\"\n",
    "\n",
    "# the `index` argument corresponds to what frame of the trajectory to read in, specifiying \":\" reads in the full trajectory.\n",
    "traj = ase.io.read(f\"data/{identifier}\", index=\":\")"
   ]
  },
  {
   "cell_type": "markdown",
   "id": "22234c17-bc80-47f6-a261-9baf27982829",
   "metadata": {
    "id": "b_e6zDVx9pTC"
   },
   "source": [
    "### Viewing a trajectory\n",
    "\n",
    "Below we visualize the initial, middle, and final steps in the structural relaxation trajectory from above. Copper atoms in the surface are colored orange. EMT does a good job here and gets a relaxed structure very quickly. It only takes a few steps, and if you look closely you can see just the top layer of Cu atoms move a bit.\n",
    "\n",
    "`````{tip}\n",
    "Visualizations can be used as a quick sanity check to ensure the initial system is set up correctly and there are no major issues with the simulation!\n",
    "`````"
   ]
  },
  {
   "cell_type": "code",
   "execution_count": null,
   "id": "87c07ed1-c3c6-4b80-8d29-fe22d62f8b67",
   "metadata": {},
   "outputs": [],
   "source": [
    "import matplotlib.pyplot as plt\n",
    "from ase.visualize.plot import animate\n",
    "from matplotlib import rc\n",
    "\n",
    "anim = animate(traj, radii=0.8, rotation=(\"-75x, 45y, 10z\"))\n",
    "\n",
    "rc(\"animation\", html=\"jshtml\")\n",
    "anim"
   ]
  },
  {
   "cell_type": "markdown",
   "id": "fe75308f-9ecc-4ad9-9c7c-dc9343f3e65c",
   "metadata": {},
   "source": [
    "## Relaxation of a slab and adsorbate (\"adslab\")\n",
    "\n",
    "Now that we know how to run a simple relaxation of a bare slab with ASE and a toy calculator, let's do the same thing with a methoxy (CH3O*) intermediate on the surface."
   ]
  },
  {
   "cell_type": "code",
   "execution_count": null,
   "id": "168aea7f-53aa-47a0-8e14-3b27cc795a22",
   "metadata": {},
   "outputs": [],
   "source": [
    "import os\n",
    "\n",
    "import ase.io\n",
    "import numpy as np\n",
    "from ase import Atoms\n",
    "from ase.build import add_adsorbate, fcc100, molecule\n",
    "from ase.calculators.emt import EMT\n",
    "from ase.constraints import FixAtoms\n",
    "from ase.io import extxyz\n",
    "from ase.io.trajectory import Trajectory\n",
    "from ase.optimize import LBFGS\n",
    "\n",
    "# This cell sets up and runs a structural relaxation\n",
    "# of a Cu(100) surface. It uses ASE scripts to make the surface.\n",
    "# The actual surfaces in OC20 were prepared slightly differently.\n",
    "\n",
    "# Make the bare slab using an ASE helper script\n",
    "adslab = fcc100(\"Cu\", size=(3, 3, 3))\n",
    "\n",
    "# Now, let's add the adsorbate to the bare slab\n",
    "adsorbate = molecule(\"CH3O\")\n",
    "add_adsorbate(adslab, adsorbate, 3, offset=(1, 1))  # adslab = adsorbate + slab\n",
    "\n",
    "# Tag all slab atoms below surface as 0, surface as 1, adsorbate as 2\n",
    "tags = np.zeros(len(adslab))\n",
    "tags[18:27] = 1\n",
    "tags[27:] = 2\n",
    "adslab.set_tags(tags)\n",
    "\n",
    "# Fixed atoms are prevented from moving during a structure relaxation.\n",
    "# We fix all slab atoms beneath the surface.\n",
    "cons = FixAtoms(indices=[atom.index for atom in adslab if (atom.tag == 0)])\n",
    "adslab.set_constraint(cons)\n",
    "adslab.center(vacuum=13.0, axis=2)\n",
    "adslab.set_pbc(True)\n",
    "\n",
    "# Set the toy calculator (EMT) so ASE knows how to get energies/forces\n",
    "# at each step\n",
    "adslab.set_calculator(EMT())\n",
    "\n",
    "os.makedirs(\"data\", exist_ok=True)\n",
    "\n",
    "# Define structure optimizer - LBFGS. Run for 100 steps,\n",
    "# or if the max force on all atoms (fmax) is below 0 ev/A.\n",
    "# fmax is typically set to 0.01-0.05 eV/A,\n",
    "# for this demo however we run for the full 100 steps.\n",
    "\n",
    "dyn = LBFGS(adslab, trajectory=\"data/Cu100+CH3O.traj\")\n",
    "dyn.run(fmax=0.03, steps=100)\n",
    "\n",
    "adslab_traj = ase.io.read(\"data/Cu100+CH3O.traj\", \":\")\n",
    "\n",
    "# convert traj format to extxyz format (used by OC20 dataset)\n",
    "columns = [\"symbols\", \"positions\", \"move_mask\", \"tags\"]\n",
    "with open(\"data/Cu100+CH3O.extxyz\", \"w\") as f:\n",
    "    extxyz.write_xyz(f, adslab_traj, columns=columns)"
   ]
  },
  {
   "cell_type": "markdown",
   "id": "f1437603-6d17-4004-987a-062884f59395",
   "metadata": {},
   "source": [
    "Note that this relaxation isn't quite finished - we stopped the relaxation at 100 steps but the force is still a bit higher than we wanted. Probably it would have converged if we had waited just a little longer.\n",
    "\n",
    "Let's visualize the relaxation with the output and see what happens!"
   ]
  },
  {
   "cell_type": "code",
   "execution_count": null,
   "id": "e28c4e61-4db6-48c1-97d0-c67dca310ae7",
   "metadata": {},
   "outputs": [],
   "source": [
    "import matplotlib.pyplot as plt\n",
    "from ase.visualize.plot import animate\n",
    "from matplotlib import rc\n",
    "\n",
    "anim = animate(adslab_traj, radii=0.8, rotation=(\"-75x, 45y, 10z\"))\n",
    "\n",
    "rc(\"animation\", html=\"jshtml\")\n",
    "anim"
   ]
  },
  {
   "cell_type": "markdown",
   "id": "6014575c-5cc3-4916-bbd1-3cff632af0cd",
   "metadata": {
    "id": "b_e6zDVx9pTC"
   },
   "source": [
    "### Viewing a trajectory\n",
    "\n",
    "Below we visualize the initial, middle, and final steps in the structural relaxation trajectory from above. Copper atoms in the surface are colored orange, the propane adsorbate on the surface has grey colored carbon atoms and white colored hydrogen atoms. The adsorbate’s structure changes during the simulation and you can see how it relaxes on the surface. In this case, the relaxation looks normal; however, there can be instances where the adsorbate flies away (desorbs) from the surface or the adsorbate can break apart (dissociation), which are hard to detect without visualization. \n",
    "\n",
    "`````{tip}\n",
    "Visualizations can be used as a quick sanity check to ensure the initial system is set up correctly and there are no major issues with the simulation!\n",
    "`````"
   ]
  },
  {
   "cell_type": "code",
   "execution_count": null,
   "id": "0306eb4f-7b35-4451-a4eb-9796eed20de7",
   "metadata": {},
   "outputs": [],
   "source": [
    "import matplotlib.pyplot as plt\n",
    "from ase.visualize.plot import animate\n",
    "from matplotlib import rc\n",
    "\n",
    "anim = animate(adslab_traj, radii=0.8, rotation=(\"-75x, 45y, 10z\"))\n",
    "\n",
    "rc(\"animation\", html=\"jshtml\")\n",
    "anim"
   ]
  },
  {
   "cell_type": "markdown",
   "id": "c7644641-5e93-4aec-a2bf-189b061e7d2e",
   "metadata": {},
   "source": [
    "`````{warning}\n",
    "Notice that this relaxation looks quite strange\n",
    "* The oxygen is the most reactive atom here; the carbon atom is happy with four bonds (3 to H atoms, 1 to an O), but the O is clearly missing a bond. Without actually running a calculation, we could probably guess that a better configuration would be O pointing towards the copper surface. This shows that how we place the adsorbate here could be improved!\n",
    "* The methoxy intermediate settles down onto the surface and falls apart (**dissociates**). The final structure is not the energy of a *OCH3 intermediate on a copper surface, but instead the energy of a collection of fragments. \n",
    "\n",
    "The poor relaxation is because we're using the EMT calculator, which works ok for some simple metal surfaces but is basically just a toy model for any organic atoms (C, H, O, etc). It's not a surprise that it fails for this calculation.\n",
    "`````"
   ]
  },
  {
   "cell_type": "markdown",
   "id": "46189e31-d1f2-415a-9f68-9616cb0a5e22",
   "metadata": {
    "id": "SSR1vQZ1_Ojq"
   },
   "source": [
    "## ASE trajectory and atoms object contents\n",
    "\n",
    "Here we take a closer look at what information is contained within these trajectories."
   ]
  },
  {
   "cell_type": "code",
   "execution_count": null,
   "id": "5480e669-3c11-402e-82cf-61737919df90",
   "metadata": {
    "colab": {
     "base_uri": "https://localhost:8080/"
    },
    "id": "9x8w3o17_May",
    "outputId": "28053d07-2e88-44f7-e8bc-a53c165b96f0"
   },
   "outputs": [],
   "source": [
    "i_structure = adslab_traj[0]\n",
    "i_structure"
   ]
  },
  {
   "cell_type": "markdown",
   "id": "07b008a3-0762-477a-8f64-d017e4b2f865",
   "metadata": {
    "id": "4CgeShkN_bdJ"
   },
   "source": [
    "### Atomic numbers"
   ]
  },
  {
   "cell_type": "code",
   "execution_count": null,
   "id": "cad84d1f-a9d4-4024-820a-dd3f5515f6a0",
   "metadata": {
    "colab": {
     "base_uri": "https://localhost:8080/"
    },
    "id": "cMGTQRIz_f2c",
    "outputId": "9707e5c0-01cc-4356-9f5e-440b79060765"
   },
   "outputs": [],
   "source": [
    "numbers = i_structure.get_atomic_numbers()\n",
    "print(numbers)"
   ]
  },
  {
   "cell_type": "markdown",
   "id": "83ef1b11-d612-4dc3-a3d0-9efc8617ebe4",
   "metadata": {
    "id": "ol4Zi2Gh_qU_"
   },
   "source": [
    "### Atomic symbols"
   ]
  },
  {
   "cell_type": "code",
   "execution_count": null,
   "id": "ca792b55-6f87-4d20-84f5-5f3792fa6eda",
   "metadata": {
    "colab": {
     "base_uri": "https://localhost:8080/"
    },
    "id": "cwbxks-i_uVq",
    "outputId": "cfb74c48-886f-4292-b570-2a6a55061b81"
   },
   "outputs": [],
   "source": [
    "symbols = np.array(i_structure.get_chemical_symbols())\n",
    "print(symbols)"
   ]
  },
  {
   "cell_type": "markdown",
   "id": "b3067ceb-ab30-4365-8026-c023cb61d02f",
   "metadata": {
    "id": "x57XplOw_yNw"
   },
   "source": [
    "### Unit cell\n",
    "\n",
    "The unit cell is the volume containing our system of interest. Express as a 3x3 array representing the directional vectors that make up the volume. Illustrated as the dashed box in the above visuals."
   ]
  },
  {
   "cell_type": "code",
   "execution_count": null,
   "id": "54b6824b-b3c7-4a90-b7aa-cc10036a5ab8",
   "metadata": {
    "colab": {
     "base_uri": "https://localhost:8080/"
    },
    "id": "VWMMzn_i_0vM",
    "outputId": "5abc0dc5-5387-4e27-c38b-552f5c015728"
   },
   "outputs": [],
   "source": [
    "cell = np.array(i_structure.cell)\n",
    "print(cell)"
   ]
  },
  {
   "cell_type": "markdown",
   "id": "5dc3a0fd-87e4-40ce-a8b6-2760702e82ec",
   "metadata": {
    "id": "XHRbOyaA_97r"
   },
   "source": [
    "### Periodic boundary conditions (PBC)\n",
    "\n",
    "x,y,z boolean representing whether a unit cell repeats in the corresponding directions. The OC20 dataset sets this to [True, True, True], with a large enough vacuum layer above the surface such that a unit cell does not see itself in the z direction. This is necessary since the underlying DFT calculation also requires periodic boundary conditions. However, not all DFT codes do!\n",
    "\n",
    "Although the original structure shown above is what gets passed into our models, the presence of PBC allows it to effectively repeat infinitely in the x and y directions. Below we visualize the same structure with a periodicity of 2 in all directions, what the model may effectively see."
   ]
  },
  {
   "cell_type": "code",
   "execution_count": null,
   "id": "7614317e-a390-483c-86d3-37f5dded678e",
   "metadata": {
    "colab": {
     "base_uri": "https://localhost:8080/"
    },
    "id": "htvwgCuFAOSB",
    "outputId": "701f940f-c3d8-4674-c691-5178639ddad1"
   },
   "outputs": [],
   "source": [
    "pbc = i_structure.pbc\n",
    "print(pbc)"
   ]
  },
  {
   "cell_type": "code",
   "execution_count": null,
   "id": "9022ddb8-39f2-4acc-9097-c3c58667e9f5",
   "metadata": {
    "colab": {
     "base_uri": "https://localhost:8080/",
     "height": 400
    },
    "id": "Flzo7aO-RgyA",
    "outputId": "27185730-958e-41c5-9a54-a6301a0fedbc"
   },
   "outputs": [],
   "source": [
    "fig, ax = plt.subplots(1, 3)\n",
    "labels = [\"initial\", \"middle\", \"final\"]\n",
    "for i in range(3):\n",
    "    ax[i].axis(\"off\")\n",
    "    ax[i].set_title(labels[i])\n",
    "\n",
    "ase.visualize.plot.plot_atoms(\n",
    "    adslab_traj[0].repeat((2, 2, 1)), ax[0], radii=0.8, rotation=(\"-75x, 45y, 10z\")\n",
    ")\n",
    "ase.visualize.plot.plot_atoms(\n",
    "    adslab_traj[50].repeat((2, 2, 1)), ax[1], radii=0.8, rotation=(\"-75x, 45y, 10z\")\n",
    ")\n",
    "ase.visualize.plot.plot_atoms(\n",
    "    adslab_traj[-1].repeat((2, 2, 1)), ax[2], radii=0.8, rotation=(\"-75x, 45y, 10z\")\n",
    ")"
   ]
  },
  {
   "cell_type": "markdown",
   "id": "c04eb2a1-a6b4-4417-9b30-bc9f5c47a6b2",
   "metadata": {
    "id": "TWGXcH7AARpy"
   },
   "source": [
    "### Tags\n",
    "\n",
    "The OC20 dataset consists of systems with several different types of atoms. To help with identifying the index of certain atoms, we tag each atom according to where it is found in the system. There are three categories of atoms: \n",
    "- *sub-surface slab atoms*: these are atoms in the bottom layers of the catalyst, furthest away from the adsorbate\n",
    "- *surface slab atoms*: these are atoms in the top layers of the catalyst, close to where the adsorbate will be placed   \n",
    "- *adsorbate atoms*: atoms that make up the adsorbate molecule on top of the catalyst.\n",
    "\n",
    "Tag definitions in OC20:\n",
    "\n",
    "0. Sub-surface slab atoms\n",
    "1. Surface slab atoms\n",
    "2. Adsorbate atoms\n"
   ]
  },
  {
   "cell_type": "code",
   "execution_count": null,
   "id": "d1067f58-d72f-41ba-97c4-fc37151c3c13",
   "metadata": {
    "colab": {
     "base_uri": "https://localhost:8080/"
    },
    "id": "SGZzFhsrB5A2",
    "outputId": "722ca696-ad79-4369-f690-38631a064ade"
   },
   "outputs": [],
   "source": [
    "tags = i_structure.get_tags()\n",
    "print(tags)"
   ]
  },
  {
   "cell_type": "markdown",
   "id": "60214387-3b76-442d-9631-008b9e9d8833",
   "metadata": {
    "id": "0zVhbDL2B8cd"
   },
   "source": [
    "### Fixed atoms constraint\n",
    "\n",
    "In reality, surfaces contain many, many more atoms beneath what we've illustrated as the surface. At an infinite depth, these subsurface atoms would look just like the bulk structure. We approximate a true surface by fixing the subsurface atoms into their “bulk” locations. This ensures that they cannot move at the “bottom” of the surface. If they could, this would throw off our calculations. Consistent with the above, we fix all atoms with tags=0, and denote them as \"fixed\". All other atoms are considered \"free\"."
   ]
  },
  {
   "cell_type": "code",
   "execution_count": null,
   "id": "4c90aced-8d8f-409d-b197-bd0599297681",
   "metadata": {
    "colab": {
     "base_uri": "https://localhost:8080/"
    },
    "id": "FBMUmGrrCD_h",
    "outputId": "a013fdd0-8317-4868-f5e2-4601fdf3f2f6",
    "tags": []
   },
   "outputs": [],
   "source": [
    "cons = i_structure.constraints[0]\n",
    "print(cons, \"\\n\")\n",
    "\n",
    "# indices of fixed atoms\n",
    "indices = cons.index\n",
    "print(indices, \"\\n\")\n",
    "\n",
    "# fixed atoms correspond to tags = 0\n",
    "print(tags[indices])"
   ]
  },
  {
   "cell_type": "markdown",
   "id": "b232e0ae-2afc-4ec3-a1d9-48917ab18232",
   "metadata": {
    "id": "erpOSowgCeuS"
   },
   "source": [
    "### Force\n",
    "\n",
    "Forces are another important property of the OC20 dataset. Unlike datasets like QM9 which contain only ground state properties, the OC20 dataset contains per-atom forces necessary to carry out atomistic simulations. Physically, forces are the negative gradient of energy w.r.t atomic positions: $F = -\\frac{dE}{dx}$. Although not mandatory (depending on the application), maintaining this energy-force consistency is important for models that seek to make predictions on both properties.\n",
    "\n",
    "The \"apply_constraint\" argument controls whether to apply system constraints to the forces. In the OC20 dataset, this controls whether to return forces for fixed atoms (apply_constraint=False) or return 0s (apply_constraint=True)."
   ]
  },
  {
   "cell_type": "code",
   "execution_count": null,
   "id": "8e63c99d-f2d2-462f-8878-8a5aca4a1d3b",
   "metadata": {
    "colab": {
     "base_uri": "https://localhost:8080/"
    },
    "id": "NtgLDiT2Cmff",
    "outputId": "10fcadfd-4777-4f11-885e-8f14f8a5c1d8"
   },
   "outputs": [],
   "source": [
    "# Returning forces for all atoms - regardless of whether \"fixed\" or \"free\"\n",
    "i_structure.get_forces(apply_constraint=False)"
   ]
  },
  {
   "cell_type": "code",
   "execution_count": null,
   "id": "a598189c-0084-49b9-9089-d0092c8baee1",
   "metadata": {
    "colab": {
     "base_uri": "https://localhost:8080/"
    },
    "id": "QVgvU-OgCqzx",
    "outputId": "4049a0e0-8790-433c-d427-df0ed1ca9205"
   },
   "outputs": [],
   "source": [
    "# Applying the fixed atoms constraint to the forces\n",
    "i_structure.get_forces(apply_constraint=True)"
   ]
  },
  {
   "cell_type": "markdown",
   "id": "3bc2fd93-1dc8-440c-8bd4-160e4aabd45a",
   "metadata": {
    "id": "_DHAYeBUCHbN"
   },
   "source": [
    "## Adsorption (reaction) energy referenced to gas phase species\n",
    "\n",
    "The energy of the system is one of the properties of interest in the OC20 dataset. It's important to note that absolute energies provide little value to researchers and must be referenced properly to be useful. Put another way, all physically-meaningful energies in DFT are reaction energies from one state to another. \n",
    "\n",
    "A common approach in catalysis to maintain consistency in energies is to reference all energies to a linear combination of specific gas phase species. For OC20, these species were N2, H2, H2O, and CO. These were chosen as the DFT method we're using does a reasonable job of calculating the energies of these species. In effect, we are calculating the energy of a specific reaction:\n",
    "\\begin{align*}\n",
    "l\\text{CO}+m\\text{H2O}+n\\text{H2}+p\\text{N2} + * -> *OCH3\n",
    "\\end{align*}\n",
    "where $*$ represents a catalyst surface site, and $*OCH3$ represents our intermediate bound to the catalyst surface. All chemical reactions must balance, so with a little bit of linear algebra we can figure out what numbers $l,m,n,p$ are:\n",
    "\\begin{align*}\n",
    "\\text{CO}+\\frac{3}{2}\\text{H2} + * -> *OCH3\n",
    "\\end{align*}\n",
    "This is the energy that would be reported or predicted for an *OCH3 adsorbate in OC20. Another way that we could accomplish the same thing is to calculate a per-element energy for C,H,O,N from the reference energies:\n",
    "\\begin{align*}\n",
    "E_H = E_{\\text{H2}}/2 && E_N = E_{\\text{N2}}/2 && E_O = E_{\\text{H2O}}-E_{H2} && E_C = E_{\\text{CO}}-E_{\\text{H2O}}+E_{H2} \n",
    "\\end{align*}\n",
    "It is straightforward to convert from one reference energy scheme to another (e.g. a different set of gas-phase species), so the OC20 results are useful even if you are using a different approach!\n",
    "````{danger}\n",
    "It is extremely important to use consistent settings for all steps in your adsorption energy calculation. If you use different settings or codes for different species, you will get wrong numbers!\n",
    "````\n",
    "\n",
    "As a demonstration we'll do all of this using the EMT potential, but be aware that the results are going to be quite strange since EMT doesn't work for the gas phase molecules on their own!"
   ]
  },
  {
   "cell_type": "code",
   "execution_count": null,
   "id": "9e7762be-b436-4304-80f2-39293f8b490f",
   "metadata": {
    "colab": {
     "base_uri": "https://localhost:8080/"
    },
    "id": "5XxYqdM7CMdd",
    "outputId": "b2dbb608-d545-4bb0-d3f9-32653c05b0fa"
   },
   "outputs": [],
   "source": [
    "# Adslab energy\n",
    "relaxed_adslab = ase.io.read(\"data/Cu100+CH3O.traj\")\n",
    "adslab_energy = relaxed_adslab.get_potential_energy()\n",
    "print(f\"Adsorbate+slab energy = {adslab_energy:.2f} eV\")\n",
    "\n",
    "# Corresponding raw slab used in original adslab (adsorbate+slab) system.\n",
    "slab = fcc100(\"Cu\", size=(3, 3, 3))\n",
    "tags = np.zeros(len(slab))\n",
    "tags[18:27] = 1\n",
    "slab.set_tags(tags)\n",
    "cons = FixAtoms(indices=[atom.index for atom in slab if (atom.tag == 0)])\n",
    "slab.set_constraint(cons)\n",
    "slab.center(vacuum=13.0, axis=2)\n",
    "slab.set_calculator(EMT())\n",
    "dyn = LBFGS(slab)\n",
    "dyn.run(fmax=0.03, steps=100)\n",
    "slab_energy = slab.get_potential_energy()\n",
    "print(f\"Bare slab energy = {slab_energy:.2f} eV\")\n",
    "\n",
    "# Energy for H2O\n",
    "H2O_atoms = molecule(\"H2O\")\n",
    "H2O_atoms.set_pbc(True)\n",
    "H2O_atoms.set_cell([20, 20, 20])\n",
    "H2O_atoms.set_calculator(EMT())\n",
    "dyn = LBFGS(H2O_atoms)\n",
    "dyn.run(fmax=0.03, steps=100)\n",
    "H2O_energy = H2O_atoms.get_potential_energy()\n",
    "print(f\"H2O energy = {H2O_energy:.2f} eV\")\n",
    "\n",
    "# Energy for N2\n",
    "N2_atoms = molecule(\"N2\")\n",
    "N2_atoms.set_pbc(True)\n",
    "N2_atoms.set_cell([20, 20, 20])\n",
    "N2_atoms.set_calculator(EMT())\n",
    "dyn = LBFGS(N2_atoms)\n",
    "dyn.run(fmax=0.03, steps=100)\n",
    "N2_energy = N2_atoms.get_potential_energy()\n",
    "print(f\"N2 energy = {N2_energy:.2f} eV\")\n",
    "\n",
    "# Energy for CO\n",
    "CO_atoms = molecule(\"CO\")\n",
    "CO_atoms.set_pbc(True)\n",
    "CO_atoms.set_cell([20, 20, 20])\n",
    "CO_atoms.set_calculator(EMT())\n",
    "dyn = LBFGS(CO_atoms)\n",
    "dyn.run(fmax=0.03, steps=100)\n",
    "CO_energy = CO_atoms.get_potential_energy()\n",
    "print(f\"CO energy = {CO_energy:.2f} eV\")\n",
    "\n",
    "# Energy for H2\n",
    "H2_atoms = molecule(\"H2\")\n",
    "H2_atoms.set_pbc(True)\n",
    "H2_atoms.set_cell([20, 20, 20])\n",
    "H2_atoms.set_calculator(EMT())\n",
    "dyn = LBFGS(H2_atoms)\n",
    "dyn.run(fmax=0.03, steps=100)\n",
    "H2_energy = H2_atoms.get_potential_energy()\n",
    "print(f\"H2 energy = {H2_energy:.2f} eV\")\n",
    "\n",
    "gas_reference_energies = {\n",
    "    \"H\": H2_energy / 2,\n",
    "    \"N\": N2_energy / 2,\n",
    "    \"O\": H2O_energy - H2_energy,\n",
    "    \"C\": CO_energy - (H2O_energy - H2_energy),\n",
    "}\n",
    "\n",
    "adsorbate = Atoms(\"CH3O\").get_chemical_symbols()\n",
    "\n",
    "adsorbate_reference_energy = 0\n",
    "for ads in adsorbate:\n",
    "    adsorbate_reference_energy += gas_reference_energies[ads]\n",
    "\n",
    "print(f\"Adsorbate reference energy = {adsorbate_reference_energy:.2f} eV\\n\")\n",
    "\n",
    "adsorption_energy = adslab_energy - slab_energy - adsorbate_reference_energy\n",
    "print(f\"Adsorption energy: {adsorption_energy:.2f} eV\")"
   ]
  },
  {
   "cell_type": "markdown",
   "id": "1baa7ea1-a8e3-4d10-a952-47b012eddcec",
   "metadata": {},
   "source": [
    "`````{danger}\n",
    "These gas-phase energies should not be trusted! Don't use them for anything more than this demo. Use a real calculation with consistent settings to your adslab to get the C/H/O/N energies!\n",
    "`````"
   ]
  },
  {
   "cell_type": "markdown",
   "id": "27d5b9a4-d51b-4060-aa5e-8a28598c401a",
   "metadata": {
    "id": "EchgyYxXCUit"
   },
   "source": [
    "#### Plot energy profile of toy trajectory\n",
    "\n",
    "Plotting the energy profile of our trajectory is a good way to ensure nothing strange has occured. We expect to see a decreasing monotonic function. If the energy is consistently increasing or there's multiple large spikes this could be a sign of some issues in the optimization. This is particularly useful for when analyzing ML-driven relaxations and whether they make general physical sense."
   ]
  },
  {
   "cell_type": "code",
   "execution_count": null,
   "id": "e889e8bb-4951-4863-a5cc-f206e3ba9dfc",
   "metadata": {},
   "outputs": [],
   "source": [
    "import pandas as pd\n",
    "import plotly.express as px\n",
    "\n",
    "energies = [\n",
    "    image.get_potential_energy() - slab_energy - adsorbate_reference_energy\n",
    "    for image in adslab_traj\n",
    "]\n",
    "\n",
    "df = pd.DataFrame(\n",
    "    {\"Relaxation Step\": range(len(energies)), \"Adsorption Energy [eV]\": energies}\n",
    ")\n",
    "\n",
    "fig = px.line(df, x=\"Relaxation Step\", y=\"Adsorption Energy [eV]\")\n",
    "fig.show()"
   ]
  },
  {
   "cell_type": "code",
   "execution_count": null,
   "id": "7b27fef8-ac24-4f12-9e27-e53e71c08a2e",
   "metadata": {},
   "outputs": [],
   "source": []
  }
 ],
 "metadata": {
  "kernelspec": {
   "display_name": "Python 3 (ipykernel)",
   "language": "python",
   "name": "python3"
  },
  "language_info": {
   "codemirror_mode": {
    "name": "ipython",
    "version": 3
   },
   "file_extension": ".py",
   "mimetype": "text/x-python",
   "name": "python",
   "nbconvert_exporter": "python",
   "pygments_lexer": "ipython3",
   "version": "3.9.13"
  }
 },
 "nbformat": 4,
 "nbformat_minor": 5
}
