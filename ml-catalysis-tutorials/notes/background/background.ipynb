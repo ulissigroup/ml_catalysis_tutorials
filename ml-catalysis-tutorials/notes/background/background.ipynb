{
 "cells": [
  {
   "cell_type": "markdown",
   "id": "7f283e32-2b4a-4069-bc41-9afd5d65c1b8",
   "metadata": {
    "id": "JkjKcVJ47hSN"
   },
   "source": [
    "## Background <a name=\"background\"></a>\n",
    "The discovery of efficient and economic catalysts (materials) are needed to enable the widespread use of renewable energy technologies. A common approach in discovering high performance catalysts is using molecular simulations. Specifically, each simulation models the interaction of a catalyst surface with molecules that are commonly seen in electrochemical reactions. By predicting these interactions accurately, the catalyst's impact on the overall rate of a chemical reaction may be estimated.\n",
    "\n",
    "An important quantity in screening catalysts is their adsorption energy for the molecules, referred to as `adsorbates', involved in the reaction of interest. The adsorption energy may be found by simulating the interaction of the adsorbate molecule on the surface of the catalyst to find their resting or relaxed energy, i.e., how tightly the adsorbate binds to the catalyst's surface (visualized below). The rate of the chemical reaction, a value of high practical importance, is then commonly approximated using simple functions of the adsorption energy. The goal of this tutorial specifically and the project overall is to encourage research and benchmark progress towards training ML models to approximate this relaxation.\n",
    "\n",
    "Specifically, during the course of a relaxation, given an initial set of atoms and their positions, the task is to iteratively estimate atomic forces and update atomic positions until a relaxed state is reached. The energy corresponding to the relaxed state is the structure's 'relaxed energy'.\n",
    "\n",
    "As part of the [Open Catalyst Project](https://github.com/Open-Catalyst-Project/ocp) (OCP), we identify three key tasks ML models need to perform well on in\n",
    "order to effectively approximate DFT --\n",
    "\n",
    " 1) Given an **I**nitial **S**tructure, predict the **R**elaxed **E**nergy of the relaxed strucutre (**IS2RE**),\n",
    "\n",
    " 2) Given an **I**nitial **S**tructure, predict the **R**elaxed **S**tructure (**IS2RS**),\n",
    "\n",
    "  3) Given any **S**tructure, predict the structure **E**nergy and per-atom **F**orces (**S2EF**).\n",
    "  \n",
    "\n",
    "![OC20 relaxations](oc20_relaxations.png)\n"
   ]
  },
  {
   "cell_type": "markdown",
   "id": "66a3570c-338b-41a4-8769-affdafde34ab",
   "metadata": {
    "id": "99jkSa_KmrDH"
   },
   "source": [
    "<a name=\"climate-impact\"></a>\n",
    "# Climate Impact\n",
    "\n",
    "![California energy demand](california_demand.png)\n",
    "\n",
    "Scalable and cost-effective solutions to renewable energy storage are essential to addressing the world’s rising energy needs while reducing climate change. As illustrated in the figure below, as we increase our reliance on renewable energy sources such as wind and solar, which produce intermittent power, storage is needed to transfer power from times of peak generation to peak demand. This may require the storage of power for hours, days, or months. One solution that offers the potential of scaling to nation-sized grids is the conversion of renewable energy to other fuels, such as hydrogen. To be widely adopted, this process requires cost-effective solutions to running chemical reactions.\n",
    "\n",
    "An open challenge is finding low-cost catalysts to drive these reactions at high rates. Through the use of quantum mechanical simulations (Density Functional Theory, DFT), new catalyst structures can be tested and evaluated. Unfortunately, the high computational cost of these simulations limits the number of structures that may be tested. The use of AI or machine learning may provide a method to efficiently approximate these calculations; reducing the time required from 24} hours to a second. This capability would transform the search for new catalysts from the present day practice of evaluating O(1,000) of handpicked candidates to the brute force search over millions or even billions of candidates.\n",
    "\n",
    "As part of OCP, we publicly released the world's largest quantum mechanical simulation dataset -- [OC20](https://github.com/Open-Catalyst-Project/ocp/blob/master/DATASET.md) -- in the Fall of 2020 along with a suite of baselines and evaluation metrics. The creation of the dataset required over 70 million hours of compute. This dataset enables the exploration of techniques that will generalize across different catalyst materials and adsorbates. If successful, models trained on the dataset could enable the computational testing of millions of catalyst materials for a wide variety of chemical reactions. However, techniques that achieve the accuracies required** for practical impact are still beyond reach and remain an open area for research, thus encouraging research in this important area to help in meeting the world's energy needs in the decades ahead.\n",
    "\n",
    "`````{tip}\n",
    "The computational catalysis community often aims for an adsorption energy MAE of 0.1-0.2 eV for practical relevance.\n",
    "`````\n"
   ]
  },
  {
   "cell_type": "markdown",
   "id": "766e70b8-2fd5-4212-abf0-07c143cf1372",
   "metadata": {
    "id": "gQgijl46pYzn"
   },
   "source": [
    "# Background & Prerequisites\n",
    "\n",
    "Basic experience training ML models. Familiarity with PyTorch. Familiarity with Pytorch-Geometric could be helpful for development, but not required.\n",
    "No background in chemistry is assumed.\n",
    "\n",
    "For those looking to apply our pretrained models on their datasets, familiarity with the [Atomic Simulation Environment](https://wiki.fysik.dtu.dk/ase/#:~:text=The%20Atomic%20Simulation%20Environment%20(ASE,under%20the%20GNU%20LGPL%20license.) is useful."
   ]
  },
  {
   "cell_type": "markdown",
   "id": "8ade5801-c2d7-4e5e-85f6-211ef32989a9",
   "metadata": {
    "id": "7BpQklEEIFDD"
   },
   "source": [
    "## Background References\n",
    "\n",
    "To gain an even better understanding of the Open Catalyst Project and the problems it seeks to address, we strongly recommend the following resources:\n",
    "\n",
    "* To learn more about electrocatalysis, see our [white paper](https://arxiv.org/pdf/2010.09435.pdf).\n",
    "* To learn about the OC20 dataset and the associated tasks, please see the [OC20 dataset paper](https://arxiv.org/pdf/2010.09990.pdf).\n"
   ]
  },
  {
   "cell_type": "code",
   "execution_count": null,
   "id": "7210d447-878b-41aa-a0d8-7ec525a66637",
   "metadata": {},
   "outputs": [],
   "source": []
  }
 ],
 "metadata": {
  "kernelspec": {
   "display_name": "Python 3 (ipykernel)",
   "language": "python",
   "name": "python3"
  },
  "language_info": {
   "codemirror_mode": {
    "name": "ipython",
    "version": 3
   },
   "file_extension": ".py",
   "mimetype": "text/x-python",
   "name": "python",
   "nbconvert_exporter": "python",
   "pygments_lexer": "ipython3",
   "version": "3.9.13"
  }
 },
 "nbformat": 4,
 "nbformat_minor": 5
}
