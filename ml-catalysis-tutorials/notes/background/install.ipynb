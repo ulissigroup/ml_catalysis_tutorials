{
 "cells": [
  {
   "cell_type": "markdown",
   "id": "82425ad9-158f-4ea0-bcca-93d2332affc0",
   "metadata": {},
   "source": [
    "# Installation and set-up of ocpmodels\n",
    "\n",
    "\n",
    "All required dependencies can be found here - https://github.com/Open-Catalyst-Project/ocp#installation.\n",
    "\n",
    "This website is built by following the cpu-only installation instructions and then cloning the ocp repo. You can see exactly which commands were used to install the repo for this website by looking at the github workflow actions:\n",
    "https://github.com/ulissigroup/ml_catalysis_tutorials/blob/main/.github/workflows/deploy.yml\n",
    "\n",
    "If you have access to a GPU, you should definitely use one for model training. Colab is probably the best option for this but installing the necessary requirements are a bit harder.\n",
    "\n"
   ]
  }
 ],
 "metadata": {
  "kernelspec": {
   "display_name": "Python 3 (ipykernel)",
   "language": "python",
   "name": "python3"
  },
  "language_info": {
   "codemirror_mode": {
    "name": "ipython",
    "version": 3
   },
   "file_extension": ".py",
   "mimetype": "text/x-python",
   "name": "python",
   "nbconvert_exporter": "python",
   "pygments_lexer": "ipython3",
   "version": "3.9.13"
  }
 },
 "nbformat": 4,
 "nbformat_minor": 5
}
