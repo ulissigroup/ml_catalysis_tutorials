{
 "cells": [
  {
   "cell_type": "markdown",
   "id": "44e207cb-5df2-4a2a-aedf-a9b0881102c4",
   "metadata": {
    "id": "gM9Wqk0GIxyU",
    "tags": []
   },
   "source": [
    "# Initial Structure to Relaxed Structure (IS2RS) \n",
    "\n",
    "We approach the IS2RS task by using a pre-trained S2EF model to iteratively run a structure optimization to arrive at a relaxed structure. While the majority of approaches for this task do this iteratively, we note it's possible to train a model to directly predict relaxed structures.\n",
    "\n",
    "## Steps for making IS2RS predictions\n",
    "1) Define or load a configuration (config), which includes the following\n",
    "* task with relaxation dataset information\n",
    "* model\n",
    "* optimizer\n",
    "* dataset\n",
    "* trainer\n",
    "\n",
    "2) Create a ForcesTrainer object\n",
    "\n",
    "3) Train a S2EF model or load an existing S2EF checkpoint\n",
    "\n",
    "4) Run relaxations\n",
    "\n",
    "**Note** For this task we'll be using a publicly released pre-trained checkpoint of our best model to perform relaxations."
   ]
  },
  {
   "cell_type": "markdown",
   "id": "1cce3910-e2e0-4f36-8d40-b04c0db97246",
   "metadata": {
    "id": "tNSI3hUAJAWc"
   },
   "source": [
    "#### Imports"
   ]
  },
  {
   "cell_type": "code",
   "execution_count": null,
   "id": "11b03759-474b-4215-a4b4-bbe0bb13a844",
   "metadata": {
    "id": "Z-WZXuRiI6Vo"
   },
   "outputs": [],
   "source": [
    "from ocpmodels import models\n",
    "from ocpmodels.common import logger\n",
    "from ocpmodels.common.utils import setup_logging\n",
    "from ocpmodels.datasets import TrajectoryLmdbDataset\n",
    "from ocpmodels.trainers import ForcesTrainer\n",
    "\n",
    "setup_logging()\n",
    "\n",
    "import numpy as np"
   ]
  },
  {
   "cell_type": "markdown",
   "id": "5cb6064b-f0a9-4786-801c-14009ef0a317",
   "metadata": {
    "id": "XFLZTpRvldZE"
   },
   "source": [
    "### Dataset\n",
    "\n",
    "The IS2RS task requires an additional relaxation dataset to be defined - `relax_dataset`. This dataset is read in similar to the IS2RE dataset - requiring an LMDB file. The same datasets are used for the IS2RE and IS2RS tasks."
   ]
  },
  {
   "cell_type": "code",
   "execution_count": null,
   "id": "e410d75f-d1ff-4373-ab4a-8e913af8a58d",
   "metadata": {},
   "outputs": [],
   "source": [
    "%%bash\n",
    "mkdir data\n",
    "cd data\n",
    "wget -q -nc http://dl.fbaipublicfiles.com/opencatalystproject/data/tutorial_data.tar.gz -O tutorial_data.tar.gz\n",
    "tar -xzvf tutorial_data.tar.gz"
   ]
  },
  {
   "cell_type": "code",
   "execution_count": null,
   "id": "b80f9a61-47d5-41dd-a691-98bc6cd43d10",
   "metadata": {
    "id": "irrPcbs4ldZF"
   },
   "outputs": [],
   "source": [
    "train_src = \"data/s2ef/train_100\"\n",
    "val_src = \"data/s2ef/val_20\"\n",
    "relax_dataset = \"data/is2re/val_20/data.lmdb\""
   ]
  },
  {
   "cell_type": "markdown",
   "id": "15073f51-7c3c-46cb-8d5c-ab1854c98f7d",
   "metadata": {
    "id": "7gJ01gabd6BR"
   },
   "source": [
    "### Download pretrained checkpoint"
   ]
  },
  {
   "cell_type": "code",
   "execution_count": null,
   "id": "4fca0404-dc23-4e97-b58c-a623b4355983",
   "metadata": {
    "id": "MiOeqFN-d-7K"
   },
   "outputs": [],
   "source": [
    "!wget -q https://dl.fbaipublicfiles.com/opencatalystproject/models/2021_08/s2ef/gemnet_t_direct_h512_all.pt\n",
    "checkpoint_path = \"/content/ocp/gemnet_t_direct_h512_all.pt\""
   ]
  },
  {
   "cell_type": "markdown",
   "id": "90ecb42e-a6ce-45be-9c29-b103440820d2",
   "metadata": {
    "id": "fp1Ab8TGltP6"
   },
   "source": [
    "### Define the Config"
   ]
  },
  {
   "cell_type": "markdown",
   "id": "00bf3573-5217-42be-9cf5-078196bcdec1",
   "metadata": {
    "id": "JLOydGsmltP7"
   },
   "source": [
    "Running an iterative S2EF model for the IS2RS task can be run from any S2EF config given the following additions to the `task` portion of the config:\n",
    "\n",
    "* relax_dataset - IS2RE LMDB dataset\n",
    "* *write_pos* - Whether to save out relaxed positions\n",
    "* *relaxation_steps* - Number of optimization steps to run\n",
    "* *relax_opt* - Dictionary of optimizer settings. Currently only LBFGS supported\n",
    "  * *maxstep* - Maximum distance an optimization is allowed to make\n",
    "  * *memory* - Memory history to use for LBFGS\n",
    "  * *damping* - Calculated step is multiplied by this factor before updating positions\n",
    "  * *alpha* - Initial guess for the Hessian\n",
    "  * *traj_dir* - If specified, directory to save out the full ML relaxation as an ASE trajectory. Useful for debugging or visualizing results.\n",
    "* *num_relaxation_batches* - If specified, relaxations will only be run for a subset of the relaxation dataset. Useful for debugging or wanting to visualize a few systems.\n",
    "\n",
    "A sample relaxation config can be found [here](https://github.com/Open-Catalyst-Project/ocp/blob/1044e311182c1120c6e6d137ce6db3f445148973/configs/s2ef/2M/dimenet_plus_plus/dpp_relax.yml#L24-L33).\n",
    "   "
   ]
  },
  {
   "cell_type": "code",
   "execution_count": null,
   "id": "2a767110-4687-469f-baac-58e52439e885",
   "metadata": {
    "id": "XU9DisuyltP8"
   },
   "outputs": [],
   "source": [
    "# Task\n",
    "task = {\n",
    "    \"dataset\": \"trajectory_lmdb\",  # dataset used for the S2EF task\n",
    "    \"description\": \"Regressing to energies and forces for DFT trajectories from OCP\",\n",
    "    \"type\": \"regression\",\n",
    "    \"metric\": \"mae\",\n",
    "    \"labels\": [\"potential energy\"],\n",
    "    \"grad_input\": \"atomic forces\",\n",
    "    \"train_on_free_atoms\": True,\n",
    "    \"eval_on_free_atoms\": True,\n",
    "    \"relax_dataset\": {\"src\": relax_dataset},\n",
    "    \"write_pos\": True,\n",
    "    \"relaxation_steps\": 200,\n",
    "    \"num_relaxation_batches\": 1,\n",
    "    \"relax_opt\": {\n",
    "        \"maxstep\": 0.04,\n",
    "        \"memory\": 50,\n",
    "        \"damping\": 1.0,\n",
    "        \"alpha\": 70.0,\n",
    "        \"traj_dir\": \"ml-relaxations/is2rs-test\",\n",
    "    },\n",
    "}\n",
    "# Model\n",
    "model = {\n",
    "    \"name\": \"gemnet_t\",\n",
    "    \"num_spherical\": 7,\n",
    "    \"num_radial\": 128,\n",
    "    \"num_blocks\": 3,\n",
    "    \"emb_size_atom\": 512,\n",
    "    \"emb_size_edge\": 512,\n",
    "    \"emb_size_trip\": 64,\n",
    "    \"emb_size_rbf\": 16,\n",
    "    \"emb_size_cbf\": 16,\n",
    "    \"emb_size_bil_trip\": 64,\n",
    "    \"num_before_skip\": 1,\n",
    "    \"num_after_skip\": 2,\n",
    "    \"num_concat\": 1,\n",
    "    \"num_atom\": 3,\n",
    "    \"cutoff\": 6.0,\n",
    "    \"max_neighbors\": 50,\n",
    "    \"rbf\": {\"name\": \"gaussian\"},\n",
    "    \"envelope\": {\n",
    "        \"name\": \"polynomial\",\n",
    "        \"exponent\": 5,\n",
    "    },\n",
    "    \"cbf\": {\"name\": \"spherical_harmonics\"},\n",
    "    \"extensive\": True,\n",
    "    \"otf_graph\": False,\n",
    "    \"output_init\": \"HeOrthogonal\",\n",
    "    \"activation\": \"silu\",\n",
    "    \"scale_file\": \"configs/s2ef/all/gemnet/scaling_factors/gemnet-dT.json\",\n",
    "    \"regress_forces\": True,\n",
    "    \"direct_forces\": True,\n",
    "}\n",
    "# Optimizer\n",
    "optimizer = {\n",
    "    \"batch_size\": 1,  # originally 32\n",
    "    \"eval_batch_size\": 1,  # originally 32\n",
    "    \"num_workers\": 2,\n",
    "    \"lr_initial\": 5.0e-4,\n",
    "    \"optimizer\": \"AdamW\",\n",
    "    \"optimizer_params\": {\"amsgrad\": True},\n",
    "    \"scheduler\": \"ReduceLROnPlateau\",\n",
    "    \"mode\": \"min\",\n",
    "    \"factor\": 0.8,\n",
    "    \"ema_decay\": 0.999,\n",
    "    \"clip_grad_norm\": 10,\n",
    "    \"patience\": 3,\n",
    "    \"max_epochs\": 1,  # used for demonstration purposes\n",
    "    \"force_coefficient\": 100,\n",
    "}\n",
    "# Dataset\n",
    "dataset = [\n",
    "    {\"src\": train_src, \"normalize_labels\": False},  # train set\n",
    "    {\"src\": val_src},  # val set (optional)\n",
    "]"
   ]
  },
  {
   "cell_type": "markdown",
   "id": "3b3bcacb-afa4-41dd-a5bf-297d1f995da9",
   "metadata": {
    "id": "IsOqQIjnogkQ"
   },
   "source": [
    "### Create the trainer"
   ]
  },
  {
   "cell_type": "code",
   "execution_count": null,
   "id": "456fafb4-bdaa-420b-a1d7-1a4c660abe1d",
   "metadata": {
    "colab": {
     "base_uri": "https://localhost:8080/"
    },
    "id": "5KZvPu4hogkR",
    "outputId": "0d8bc0a6-b458-4a48-c80e-7a81bb9a47eb"
   },
   "outputs": [
    {
     "name": "stdout",
     "output_type": "stream",
     "text": [
      "amp: true\n",
      "cmd:\n",
      "  checkpoint_dir: ./checkpoints/2022-10-28-20-09-36-is2rs-example\n",
      "  commit: 6e750b2\n",
      "  identifier: is2rs-example\n",
      "  logs_dir: ./logs/tensorboard/2022-10-28-20-09-36-is2rs-example\n",
      "  print_every: 5\n",
      "  results_dir: ./results/2022-10-28-20-09-36-is2rs-example\n",
      "  seed: 0\n",
      "  timestamp_id: 2022-10-28-20-09-36-is2rs-example\n",
      "dataset:\n",
      "  normalize_labels: false\n",
      "  src: data/s2ef/train_100\n",
      "gpus: 1\n",
      "logger: tensorboard\n",
      "model: gemnet_t\n",
      "model_attributes:\n",
      "  activation: silu\n",
      "  cbf:\n",
      "    name: spherical_harmonics\n",
      "  cutoff: 6.0\n",
      "  direct_forces: true\n",
      "  emb_size_atom: 512\n",
      "  emb_size_bil_trip: 64\n",
      "  emb_size_cbf: 16\n",
      "  emb_size_edge: 512\n",
      "  emb_size_rbf: 16\n",
      "  emb_size_trip: 64\n",
      "  envelope:\n",
      "    exponent: 5\n",
      "    name: polynomial\n",
      "  extensive: true\n",
      "  max_neighbors: 50\n",
      "  num_after_skip: 2\n",
      "  num_atom: 3\n",
      "  num_before_skip: 1\n",
      "  num_blocks: 3\n",
      "  num_concat: 1\n",
      "  num_radial: 128\n",
      "  num_spherical: 7\n",
      "  otf_graph: false\n",
      "  output_init: HeOrthogonal\n",
      "  rbf:\n",
      "    name: gaussian\n",
      "  regress_forces: true\n",
      "  scale_file: configs/s2ef/all/gemnet/scaling_factors/gemnet-dT.json\n",
      "noddp: false\n",
      "optim:\n",
      "  batch_size: 1\n",
      "  clip_grad_norm: 10\n",
      "  ema_decay: 0.999\n",
      "  eval_batch_size: 1\n",
      "  factor: 0.8\n",
      "  force_coefficient: 100\n",
      "  lr_initial: 0.0005\n",
      "  max_epochs: 1\n",
      "  mode: min\n",
      "  num_workers: 2\n",
      "  optimizer: AdamW\n",
      "  optimizer_params:\n",
      "    amsgrad: true\n",
      "  patience: 3\n",
      "  scheduler: ReduceLROnPlateau\n",
      "slurm: {}\n",
      "task:\n",
      "  dataset: trajectory_lmdb\n",
      "  description: Regressing to energies and forces for DFT trajectories from OCP\n",
      "  eval_on_free_atoms: true\n",
      "  grad_input: atomic forces\n",
      "  labels:\n",
      "  - potential energy\n",
      "  metric: mae\n",
      "  num_relaxation_batches: 1\n",
      "  relax_dataset:\n",
      "    src: data/is2re/val_20/data.lmdb\n",
      "  relax_opt:\n",
      "    alpha: 70.0\n",
      "    damping: 1.0\n",
      "    maxstep: 0.04\n",
      "    memory: 50\n",
      "    traj_dir: ml-relaxations/is2rs-test\n",
      "  relaxation_steps: 200\n",
      "  train_on_free_atoms: true\n",
      "  type: regression\n",
      "  write_pos: true\n",
      "trainer: forces\n",
      "val_dataset:\n",
      "  src: data/s2ef/val_20\n",
      "\n"
     ]
    },
    {
     "name": "stderr",
     "output_type": "stream",
     "text": [
      "WARNING:root:Model gradient logging to tensorboard not yet supported.\n"
     ]
    }
   ],
   "source": [
    "trainer = ForcesTrainer(\n",
    "    task=task,\n",
    "    model=model,\n",
    "    dataset=dataset,\n",
    "    optimizer=optimizer,\n",
    "    identifier=\"is2rs-example\",\n",
    "    run_dir=\"./\",  # directory to save results if is_debug=False. Prediction files are saved here so be careful not to override!\n",
    "    is_debug=False,  # if True, do not save checkpoint, logs, or results\n",
    "    print_every=5,\n",
    "    seed=0,  # random seed to use\n",
    "    logger=\"tensorboard\",  # logger of choice (tensorboard and wandb supported)\n",
    "    local_rank=0,\n",
    "    amp=True,  # use PyTorch Automatic Mixed Precision (faster training and less memory usage)\n",
    ")"
   ]
  },
  {
   "cell_type": "markdown",
   "id": "5c971a78-c309-448c-96c1-f88b4c49c2bb",
   "metadata": {
    "id": "wtMn792WpC4X"
   },
   "source": [
    "### Load the best checkpoint\n"
   ]
  },
  {
   "cell_type": "code",
   "execution_count": null,
   "id": "4cf0f4eb-797d-4656-91d9-7d3ff650cc42",
   "metadata": {
    "id": "jFXQJBYxpC4Y"
   },
   "outputs": [],
   "source": [
    "trainer.load_checkpoint(checkpoint_path=checkpoint_path)"
   ]
  },
  {
   "cell_type": "markdown",
   "id": "941548db-4aa9-4e40-83e3-ff126fc2c436",
   "metadata": {
    "id": "2rtga4JPot6i"
   },
   "source": [
    "### Run relaxations\n",
    "\n",
    "We run a full relaxation for a single batch of our relaxation dataset (`num_relaxation_batches=1`)."
   ]
  },
  {
   "cell_type": "code",
   "execution_count": null,
   "id": "721b74d0-11b5-4719-b469-db730eee5478",
   "metadata": {
    "colab": {
     "base_uri": "https://localhost:8080/"
    },
    "id": "aQG-HEpuot6k",
    "outputId": "88d8ccdc-86db-412c-967b-c17d5f52971e"
   },
   "outputs": [
    {
     "name": "stderr",
     "output_type": "stream",
     "text": [
      "  0%|          | 0/20 [00:00<?, ?it/s]/content/ocp/ocpmodels/models/gemnet/gemnet.py:373: UserWarning: __floordiv__ is deprecated, and its behavior will change in a future version of pytorch. It currently rounds toward 0 (like the 'trunc' function NOT 'floor'). This results in incorrect rounding for negative values. To keep the current behavior, use torch.div(a, b, rounding_mode='trunc'), or for actual floor division, use torch.div(a, b, rounding_mode='floor').\n",
      "  neighbors_new // 2,\n",
      "/content/ocp/ocpmodels/models/gemnet/gemnet.py:467: UserWarning: __floordiv__ is deprecated, and its behavior will change in a future version of pytorch. It currently rounds toward 0 (like the 'trunc' function NOT 'floor'). This results in incorrect rounding for negative values. To keep the current behavior, use torch.div(a, b, rounding_mode='trunc'), or for actual floor division, use torch.div(a, b, rounding_mode='floor').\n",
      "  block_sizes = neighbors // 2\n",
      "  5%|▌         | 1/20 [00:10<03:23, 10.72s/it]\n"
     ]
    }
   ],
   "source": [
    "trainer.run_relaxations()"
   ]
  },
  {
   "cell_type": "markdown",
   "id": "26badc5c-ca67-46fb-aed4-116bfc50de99",
   "metadata": {
    "id": "j0JBID-2oB7S"
   },
   "source": [
    "### Visualize ML-driven relaxations\n",
    "\n",
    "Following our earlier [visualization steps](#data-description), we can plot our ML-generated relaxations."
   ]
  },
  {
   "cell_type": "code",
   "execution_count": null,
   "id": "f0265ec0-2e38-4443-8725-bb438156344e",
   "metadata": {
    "id": "k3z_fey3syg_"
   },
   "outputs": [],
   "source": [
    "import glob\n",
    "import random\n",
    "\n",
    "import ase.io\n",
    "import matplotlib\n",
    "import matplotlib.pyplot as plt\n",
    "from ase.visualize.plot import plot_atoms\n",
    "\n",
    "params = {\n",
    "    \"axes.labelsize\": 14,\n",
    "    \"font.size\": 14,\n",
    "    \"font.family\": \" DejaVu Sans\",\n",
    "    \"legend.fontsize\": 20,\n",
    "    \"xtick.labelsize\": 20,\n",
    "    \"ytick.labelsize\": 20,\n",
    "    \"axes.labelsize\": 25,\n",
    "    \"axes.titlesize\": 25,\n",
    "    \"text.usetex\": False,\n",
    "    \"figure.figsize\": [12, 12],\n",
    "}\n",
    "matplotlib.rcParams.update(params)"
   ]
  },
  {
   "cell_type": "code",
   "execution_count": null,
   "id": "3bb7107f-b4cd-441d-9cbf-628807f9c519",
   "metadata": {
    "colab": {
     "base_uri": "https://localhost:8080/",
     "height": 374
    },
    "id": "3yArIY59sskv",
    "outputId": "c40909ed-fd62-4d01-bfd3-f5ed98f26070"
   },
   "outputs": [
    {
     "data": {
      "text/plain": [
       "'ml-relaxations/is2rs-test/1700380.traj'"
      ]
     },
     "execution_count": 58,
     "metadata": {},
     "output_type": "execute_result"
    },
    {
     "data": {
      "image/png": "[encoded data removed]",
      "text/plain": [
       "<Figure size 504x360 with 1 Axes>"
      ]
     },
     "metadata": {
      "needs_background": "light"
     },
     "output_type": "display_data"
    }
   ],
   "source": [
    "system = glob.glob(\"ml-relaxations/is2rs-test/*.traj\")[0]\n",
    "ml_trajectory = ase.io.read(system, \":\")\n",
    "\n",
    "energies = [atom.get_potential_energy() for atom in ml_trajectory]\n",
    "\n",
    "plt.figure(figsize=(7, 5))\n",
    "plt.plot(range(len(energies)), energies)\n",
    "plt.xlabel(\"step\")\n",
    "plt.ylabel(\"energy, eV\")\n",
    "system"
   ]
  },
  {
   "cell_type": "markdown",
   "id": "4693833a-df22-422d-8750-decd529c5d30",
   "metadata": {
    "id": "CN9RC25hxLlp"
   },
   "source": [
    "Qualitatively, the ML relaxation is behaving as expected - decreasing energies over the course of the relaxation."
   ]
  },
  {
   "cell_type": "code",
   "execution_count": null,
   "id": "b4259b81-697e-4583-a59a-01ab3d850e17",
   "metadata": {
    "colab": {
     "base_uri": "https://localhost:8080/",
     "height": 198
    },
    "id": "6kxJBkV1wZUw",
    "outputId": "b5204191-ecd5-403d-f4f9-16448d8dcc7b"
   },
   "outputs": [
    {
     "data": {
      "text/plain": [
       "<AxesSubplot: title={'center': 'ml-final'}>"
      ]
     },
     "execution_count": 59,
     "metadata": {},
     "output_type": "execute_result"
    },
    {
     "data": {
      "image/png": "[encoded data removed]",
      "text/plain": [
       "<Figure size 864x864 with 3 Axes>"
      ]
     },
     "metadata": {
      "needs_background": "light"
     },
     "output_type": "display_data"
    }
   ],
   "source": [
    "fig, ax = plt.subplots(1, 3)\n",
    "labels = [\"ml-initial\", \"ml-middle\", \"ml-final\"]\n",
    "for i in range(3):\n",
    "    ax[i].axis(\"off\")\n",
    "    ax[i].set_title(labels[i])\n",
    "\n",
    "ase.visualize.plot.plot_atoms(\n",
    "    ml_trajectory[0],\n",
    "    ax[0],\n",
    "    radii=0.8,\n",
    "    # rotation=(\"-75x, 45y, 10z\")) # uncomment to visualize at different angles\n",
    ")\n",
    "ase.visualize.plot.plot_atoms(\n",
    "    ml_trajectory[100],\n",
    "    ax[1],\n",
    "    radii=0.8,\n",
    "    # rotation=(\"-75x, 45y, 10z\") # uncomment to visualize at different angles\n",
    ")\n",
    "ase.visualize.plot.plot_atoms(\n",
    "    ml_trajectory[-1],\n",
    "    ax[2],\n",
    "    radii=0.8,\n",
    "    # rotation=(\"-75x, 45y, 10z\"), # uncomment to visualize at different angles\n",
    ")"
   ]
  },
  {
   "cell_type": "markdown",
   "id": "4823b02a-c48f-431d-b318-7a656c4b7acd",
   "metadata": {
    "id": "8LE2lrJwyblQ"
   },
   "source": [
    "Qualitatively, the generated structures seem reasonable with no obvious issues we had previously mentioned to look out for."
   ]
  }
 ],
 "metadata": {
  "kernelspec": {
   "display_name": "Python 3 (ipykernel)",
   "language": "python",
   "name": "python3"
  },
  "language_info": {
   "codemirror_mode": {
    "name": "ipython",
    "version": 3
   },
   "file_extension": ".py",
   "mimetype": "text/x-python",
   "name": "python",
   "nbconvert_exporter": "python",
   "pygments_lexer": "ipython3",
   "version": "3.9.13"
  }
 },
 "nbformat": 4,
 "nbformat_minor": 5
}
