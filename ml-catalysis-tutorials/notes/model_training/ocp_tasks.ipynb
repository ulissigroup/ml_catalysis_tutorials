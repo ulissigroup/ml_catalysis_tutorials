{
 "cells": [
  {
   "cell_type": "markdown",
   "id": "9dd2ef56-886a-4fd6-a47f-d5b92bad5430",
   "metadata": {
    "id": "qa9Iuu2GU52Z"
   },
   "source": [
    "# Tasks\n",
    "\n",
    "In this section, we cover the different types of tasks the OC20 dataset presents and how to train and predict their corresponding models.\n",
    "\n",
    "1. Structure to Energy and Forces (S2EF)\n",
    "2. Initial Structure to Relaxed Energy (IS2RE)\n",
    "3. Initial Structure to Relaxed Structure (IS2RS)\n",
    "\n",
    "Tasks can be interrelated. The figure below illustrates several approaches to solving the IS2RE task:\n",
    "\n",
    "(a) the traditional approach uses DFT along with an optimizer,\n",
    "such as BFGS or conjugate gradient, to iteratively update\n",
    "the atom positions until the relaxed structure and energy are found.\n",
    "\n",
    "(b) using ML models trained to predict the energy and forces of a\n",
    "structure, S2EF can be used as a direct replacement for DFT. \n",
    "\n",
    "(c) the relaxed structure could potentially be directly regressed from\n",
    "the initial structure and S2EF used to find the energy.\n",
    "\n",
    "(d) directly compute the relaxed energy from the initial state.\n",
    "\n",
    "\n",
    "**NOTE** The following sections are intended to demonstrate the inner workings of our codebase and what goes into running the various tasks. We do not recommend training to completion within a notebook setting. Please see the [running on command line](#cmd) section for the preferred way to train/evaluate models.\n",
    "\n",
    "![OC20 tasks](oc20_tasks.png)\n"
   ]
  }
 ],
 "metadata": {
  "kernelspec": {
   "display_name": "Python 3 (ipykernel)",
   "language": "python",
   "name": "python3"
  },
  "language_info": {
   "codemirror_mode": {
    "name": "ipython",
    "version": 3
   },
   "file_extension": ".py",
   "mimetype": "text/x-python",
   "name": "python",
   "nbconvert_exporter": "python",
   "pygments_lexer": "ipython3",
   "version": "3.9.13"
  }
 },
 "nbformat": 4,
 "nbformat_minor": 5
}
