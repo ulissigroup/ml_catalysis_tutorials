{
 "cells": [
  {
   "cell_type": "markdown",
   "id": "3fe3cbbd-1140-4056-b254-8118c419d8e0",
   "metadata": {
    "id": "Rzx0lArZJ6r0"
   },
   "source": [
    "# Adsorption energy calculations using a pre-trained OCP calculator with OC22 referencing\n",
    "\n",
    "For the OC22 release, we introduced total energy model predictions. This is more flexible than the adsorption energy predictions from OC20 and allows many other properties to be calculated. \n",
    "\n",
    "To use this model we'll have to use it separately for predictions for the gas phase species and bare slab like we did in {doc}`relaxations`. \n",
    "\n",
    "\n",
    "For this example we'll use a checkpoint for a GemNet-OC model that was trained on both OC20 and OC22 total energy data.  \n",
    "\n",
    "\n",
    "`````{warning}\n",
    "This checkpoint has a few important caveats to keep in mind before using it blindly:\n",
    "\n",
    "* This is trained as a force field to predict both energies and forces for specific configurations\n",
    "* The energies and forces are not internally consistent, since we've found that models that predict the energy and force separately tend to do better for OC20\n",
    "`````"
   ]
  },
  {
   "cell_type": "markdown",
   "id": "571534b6-9561-4173-a048-fc5b365be354",
   "metadata": {
    "id": "QGaXyeS_8yHp"
   },
   "source": [
    "## Download pretrained checkpoint\n",
    "\n",
    "We have released checkpoints of all the models on the leaderboard [here](https://github.com/Open-Catalyst-Project/ocp/blob/master/MODELS.md). These trained models can be used as an ASE calculator for various calculations."
   ]
  },
  {
   "cell_type": "code",
   "execution_count": null,
   "id": "e51562dc-1d66-4cc0-ac3e-13a05b544810",
   "metadata": {
    "id": "MBCRi69284Ve"
   },
   "outputs": [],
   "source": [
    "!wget -q -nc https://dl.fbaipublicfiles.com/opencatalystproject/models/2022_09/oc22/s2ef/gnoc_oc22_oc20_all_s2ef.pt\n",
    "checkpoint_path = \"gnoc_oc22_oc20_all_s2ef.pt\""
   ]
  },
  {
   "cell_type": "markdown",
   "id": "5217872a-c7a6-45cb-b0dd-04c5da595e5c",
   "metadata": {
    "id": "TNQ1dNVG93kH"
   },
   "source": [
    "## Relaxing the adslab\n",
    "\n",
    "We can load the pre-trained OCP calculator very easily!"
   ]
  },
  {
   "cell_type": "code",
   "execution_count": null,
   "id": "7b492310-f1e9-42f7-8ac6-3b8843f9a848",
   "metadata": {},
   "outputs": [],
   "source": [
    "from ocpmodels.common.relaxation.ase_utils import OCPCalculator\n",
    "\n",
    "ocp_calculator = OCPCalculator(checkpoint=checkpoint_path)"
   ]
  },
  {
   "cell_type": "markdown",
   "id": "53e099c9-09c0-4cb1-be92-ff27d4947776",
   "metadata": {},
   "source": [
    "Now we'll basically repeat the process from {doc}`relaxations` using our pre-trained calculator."
   ]
  },
  {
   "cell_type": "code",
   "execution_count": null,
   "id": "f0874924-591c-4d3a-a4f0-cad243a3c16a",
   "metadata": {},
   "outputs": [],
   "source": [
    "import os\n",
    "\n",
    "import ase.io\n",
    "import numpy as np\n",
    "from ase import Atoms\n",
    "from ase.build import add_adsorbate, fcc100, molecule\n",
    "from ase.calculators.emt import EMT\n",
    "from ase.constraints import FixAtoms\n",
    "from ase.io import extxyz\n",
    "from ase.io.trajectory import Trajectory\n",
    "from ase.optimize import LBFGS\n",
    "\n",
    "# This cell sets up and runs a structural relaxation\n",
    "# of a Cu(100) surface. It uses ASE scripts to make the surface.\n",
    "# The actual surfaces in OC20 were prepared slightly differently.\n",
    "\n",
    "# Make the bare slab using an ASE helper script\n",
    "adslab = fcc100(\"Cu\", size=(3, 3, 3))\n",
    "\n",
    "# Now, let's add the adsorbate to the bare slab\n",
    "adsorbate = molecule(\"CH3O\")\n",
    "add_adsorbate(adslab, adsorbate, 3, offset=(1, 1))  # adslab = adsorbate + slab\n",
    "\n",
    "# Tag all slab atoms below surface as 0, surface as 1, adsorbate as 2\n",
    "tags = np.zeros(len(adslab))\n",
    "tags[18:27] = 1\n",
    "tags[27:] = 2\n",
    "adslab.set_tags(tags)\n",
    "\n",
    "# Fixed atoms are prevented from moving during a structure relaxation.\n",
    "# We fix all slab atoms beneath the surface.\n",
    "cons = FixAtoms(indices=[atom.index for atom in adslab if (atom.tag == 0)])\n",
    "adslab.set_constraint(cons)\n",
    "adslab.center(vacuum=13.0, axis=2)\n",
    "adslab.set_pbc(True)\n",
    "\n",
    "# Set the toy calculator (EMT) so ASE knows how to get energies/forces\n",
    "# at each step\n",
    "adslab.set_calculator(ocp_calculator)\n",
    "\n",
    "os.makedirs(\"data\", exist_ok=True)\n",
    "\n",
    "# Define structure optimizer - LBFGS. Run for 100 steps,\n",
    "# or if the max force on all atoms (fmax) is below 0 ev/A.\n",
    "# fmax is typically set to 0.01-0.05 eV/A,\n",
    "# for this demo however we run for the full 100 steps.\n",
    "\n",
    "dyn = LBFGS(adslab, trajectory=\"data/gemnetOC_oc22_Cu100+CH3O.traj\")\n",
    "dyn.run(fmax=0.03, steps=100)\n",
    "\n",
    "adslab_traj = ase.io.read(\"data/gemnetOC_oc22_Cu100+CH3O.traj\", \":\")"
   ]
  },
  {
   "cell_type": "markdown",
   "id": "8b56479d-f265-4486-b8b9-fe2a44e3ed3e",
   "metadata": {},
   "source": [
    "Notice the energies are much more negative than the results in {doc}`ase_calculator_demo` since these are total DFT energies, not adsorption energies. \n",
    "\n",
    "Let's check to see how the relaxation went to make sure it looks reasonable."
   ]
  },
  {
   "cell_type": "code",
   "execution_count": null,
   "id": "eae1c004-d94d-4f18-8cde-5135d09f6b94",
   "metadata": {},
   "outputs": [],
   "source": [
    "import matplotlib.pyplot as plt\n",
    "from ase.visualize.plot import animate\n",
    "from matplotlib import rc\n",
    "\n",
    "# the `index` argument corresponds to what frame of the trajectory to read in, specifiying \":\" reads in the full trajectory.\n",
    "traj = ase.io.read(\"data/gemnetOC_oc22_Cu100+CH3O.traj\", index=\":\")\n",
    "anim = animate(traj, radii=0.8, rotation=(\"-75x, 45y, 10z\"))\n",
    "\n",
    "rc(\"animation\", html=\"jshtml\")\n",
    "anim"
   ]
  },
  {
   "cell_type": "markdown",
   "id": "16358e4d-14b1-43d1-93a5-1d3326688911",
   "metadata": {},
   "source": [
    "Now let's predict the rest of the energies we need to compute the referenced adsorption energy. Note that the code is basically identical to the EMT example in {doc}`relaxations`; we just replace the EMT calculator with our new calculator.\n",
    "\n",
    "We'll also use the real DFT-calculated per-element reference energies from the OC22 paper."
   ]
  },
  {
   "cell_type": "code",
   "execution_count": null,
   "id": "9982a2df-411c-4fc1-aab8-cc66dc9879c6",
   "metadata": {},
   "outputs": [],
   "source": [
    "# Adslab energy\n",
    "relaxed_adslab = ase.io.read(\"data/gemnetOC_oc22_Cu100+CH3O.traj\")\n",
    "adslab_energy = relaxed_adslab.get_potential_energy()\n",
    "print(f\"Adsorbate+slab energy = {adslab_energy:.2f} eV\")\n",
    "\n",
    "# Corresponding raw slab used in original adslab (adsorbate+slab) system.\n",
    "slab = fcc100(\"Cu\", size=(3, 3, 3))\n",
    "tags = np.zeros(len(slab))\n",
    "tags[18:27] = 1\n",
    "slab.set_tags(tags)\n",
    "cons = FixAtoms(indices=[atom.index for atom in slab if (atom.tag == 0)])\n",
    "slab.set_constraint(cons)\n",
    "slab.center(vacuum=13.0, axis=2)\n",
    "slab.set_calculator(ocp_calculator)\n",
    "dyn = LBFGS(slab)\n",
    "dyn.run(fmax=0.03, steps=100)\n",
    "slab_energy = slab.get_potential_energy()\n",
    "print(f\"Bare slab energy = {slab_energy:.2f} eV\")\n",
    "\n",
    "# These should be fixed!\n",
    "gas_reference_energies = {\n",
    "    \"H\": 1,\n",
    "    \"N\": 1,\n",
    "    \"O\": 1,\n",
    "    \"C\": 1,\n",
    "}\n",
    "\n",
    "adsorbate = Atoms(\"CH3O\").get_chemical_symbols()\n",
    "\n",
    "adsorbate_reference_energy = 0\n",
    "for ads in adsorbate:\n",
    "    adsorbate_reference_energy += gas_reference_energies[ads]\n",
    "\n",
    "print(f\"Adsorbate reference energy = {adsorbate_reference_energy:.2f} eV\\n\")\n",
    "\n",
    "adsorption_energy = adslab_energy - slab_energy - adsorbate_reference_energy\n",
    "print(f\"Adsorption energy: {adsorption_energy:.2f} eV\")"
   ]
  },
  {
   "cell_type": "markdown",
   "id": "fde5fd63-f703-4d17-8fdb-568cca1e109b",
   "metadata": {},
   "source": [
    "Compare the results here with what the OC20-style calculator predicted in {doc}`ase_calculator_demo`. Note that the adsorbate rotates so that the O is pointing down on the surface and the adsorbate does not associate. This looks much more reasonable!\n"
   ]
  },
  {
   "cell_type": "code",
   "execution_count": null,
   "id": "8d13c15d-1138-4b83-b676-240401553388",
   "metadata": {},
   "outputs": [],
   "source": [
    "import pandas as pd\n",
    "import plotly.express as px\n",
    "\n",
    "energies = [\n",
    "    image.get_potential_energy() - slab_energy - adsorbate_reference_energy\n",
    "    for image in traj\n",
    "]\n",
    "\n",
    "df = pd.DataFrame(\n",
    "    {\n",
    "        \"Relaxation Step\": range(len(energies)),\n",
    "        \"GemNet-OC (OC20+OC22) Adsorption Energy [eV]\": energies,\n",
    "    }\n",
    ")\n",
    "\n",
    "fig = px.line(df, x=\"Relaxation Step\", y=\"GemNet-OC (OC20+OC22) Adsorption Energy [eV]\")\n",
    "fig.show()"
   ]
  },
  {
   "cell_type": "code",
   "execution_count": null,
   "id": "13e6f278-f1a8-4af3-9205-9fdf9e166b77",
   "metadata": {},
   "outputs": [],
   "source": []
  }
 ],
 "metadata": {
  "kernelspec": {
   "display_name": "Python 3 (ipykernel)",
   "language": "python",
   "name": "python3"
  },
  "language_info": {
   "codemirror_mode": {
    "name": "ipython",
    "version": 3
   },
   "file_extension": ".py",
   "mimetype": "text/x-python",
   "name": "python",
   "nbconvert_exporter": "python",
   "pygments_lexer": "ipython3",
   "version": "3.9.13"
  }
 },
 "nbformat": 4,
 "nbformat_minor": 5
}
