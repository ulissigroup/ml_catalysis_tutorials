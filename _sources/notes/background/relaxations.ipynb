{
 "cells": [
  {
   "cell_type": "markdown",
   "id": "db847816-a7da-4d9e-8e00-4ad999983e76",
   "metadata": {
    "id": "y6Hx8JtXEbW-"
   },
   "source": [
    "# Structural relaxations\n",
    "\n",
    "A structural relaxation or structure optimization is the process of iteratively updating atom positions to find the atom positions that minimize the energy of the structure. Standard optimization methods are used in structural relaxations — below we use the Limited-Memory Broyden–Fletcher–Goldfarb–Shanno (LBFGS) algorithm. The step number, time, energy, and force max are printed at each optimization step. Each step is considered one example because it provides all the information we need to train models for the S2EF task and the entire set of steps is referred to as a trajectory. Visualizing intermediate structures or viewing the entire trajectory can be illuminating to understand what is physically happening and to look for problems in the simulation, especially when we run ML-driven relaxations. Common problems one may look out for - atoms excessively overlapping/colliding with each other and atoms flying off into random directions."
   ]
  },
  {
   "cell_type": "code",
   "execution_count": null,
   "id": "9b661211-0a72-4d68-964b-90bbf3ad5937",
   "metadata": {
    "colab": {
     "base_uri": "https://localhost:8080/"
    },
    "id": "GEpQz9In9GrX",
    "outputId": "7d04503a-ed33-4cd6-e76a-6f391448e1a9"
   },
   "outputs": [],
   "source": [
    "import os\n",
    "\n",
    "import ase.io\n",
    "import numpy as np\n",
    "from ase import Atoms\n",
    "from ase.build import add_adsorbate, fcc100, molecule\n",
    "from ase.calculators.emt import EMT\n",
    "from ase.constraints import FixAtoms\n",
    "from ase.io import extxyz\n",
    "from ase.io.trajectory import Trajectory\n",
    "from ase.optimize import LBFGS\n",
    "from ase.visualize.plot import plot_atoms\n",
    "from IPython.display import Image\n",
    "\n",
    "# This cell sets up and runs a structural relaxation\n",
    "# of a propane (C3H8) adsorbate on a copper (Cu) surface\n",
    "\n",
    "adslab = fcc100(\"Cu\", size=(3, 3, 3))\n",
    "adsorbate = molecule(\"C3H8\")\n",
    "add_adsorbate(adslab, adsorbate, 3, offset=(1, 1))  # adslab = adsorbate + slab\n",
    "\n",
    "# tag all slab atoms below surface as 0, surface as 1, adsorbate as 2\n",
    "tags = np.zeros(len(adslab))\n",
    "tags[18:27] = 1\n",
    "tags[27:] = 2\n",
    "\n",
    "adslab.set_tags(tags)\n",
    "\n",
    "# Fixed atoms are prevented from moving during a structure relaxation.\n",
    "# We fix all slab atoms beneath the surface.\n",
    "cons = FixAtoms(indices=[atom.index for atom in adslab if (atom.tag == 0)])\n",
    "adslab.set_constraint(cons)\n",
    "adslab.center(vacuum=13.0, axis=2)\n",
    "adslab.set_pbc(True)\n",
    "adslab.set_calculator(EMT())\n",
    "\n",
    "os.makedirs(\"data\", exist_ok=True)\n",
    "\n",
    "# Define structure optimizer - LBFGS. Run for 100 steps,\n",
    "# or if the max force on all atoms (fmax) is below 0 ev/A.\n",
    "# fmax is typically set to 0.01-0.05 eV/A,\n",
    "# for this demo however we run for the full 100 steps.\n",
    "\n",
    "dyn = LBFGS(adslab, trajectory=\"data/toy_c3h8_relax.traj\")\n",
    "dyn.run(fmax=0, steps=100)\n",
    "\n",
    "traj = ase.io.read(\"data/toy_c3h8_relax.traj\", \":\")\n",
    "\n",
    "# convert traj format to extxyz format (used by OC20 dataset)\n",
    "columns = [\"symbols\", \"positions\", \"move_mask\", \"tags\"]\n",
    "with open(\"data/toy_c3h8_relax.extxyz\", \"w\") as f:\n",
    "    extxyz.write_xyz(f, traj, columns=columns)"
   ]
  },
  {
   "cell_type": "markdown",
   "id": "ae86b5e1-9f64-4174-98b6-e0b915ff385a",
   "metadata": {
    "id": "Kb77jRtz9fws"
   },
   "source": [
    "### Reading a trajectory"
   ]
  },
  {
   "cell_type": "code",
   "execution_count": null,
   "id": "48a45dad-26b1-4306-8ddd-5b6d396bc048",
   "metadata": {
    "id": "mUbvcij59d6I"
   },
   "outputs": [],
   "source": [
    "identifier = \"toy_c3h8_relax.extxyz\"\n",
    "\n",
    "# the `index` argument corresponds to what frame of the trajectory to read in, specifiying \":\" reads in the full trajectory.\n",
    "traj = ase.io.read(f\"data/{identifier}\", index=\":\")"
   ]
  },
  {
   "cell_type": "markdown",
   "id": "6014575c-5cc3-4916-bbd1-3cff632af0cd",
   "metadata": {
    "id": "b_e6zDVx9pTC"
   },
   "source": [
    "### Viewing a trajectory\n",
    "\n",
    "Below we visualize the initial, middle, and final steps in the structural relaxation trajectory from above. Copper atoms in the surface are colored orange, the propane adsorbate on the surface has grey colored carbon atoms and white colored hydrogen atoms. The adsorbate’s structure changes during the simulation and you can see how it relaxes on the surface. In this case, the relaxation looks normal; however, there can be instances where the adsorbate flies away (desorbs) from the surface or the adsorbate can break apart (dissociation), which are hard to detect without visualization. Additionally, visualizations can be used as a quick sanity check to ensure the initial system is set up correctly and there are no major issues with the simulation.\n"
   ]
  },
  {
   "cell_type": "code",
   "execution_count": null,
   "id": "571827c6-d894-48c8-94b1-f7c21ac6a4a8",
   "metadata": {
    "colab": {
     "base_uri": "https://localhost:8080/",
     "height": 680
    },
    "id": "CV5qe6IP9vZg",
    "outputId": "4a288a51-86ca-475a-af38-f59c09944e70"
   },
   "outputs": [],
   "source": [
    "import matplotlib.pyplot as plt\n",
    "\n",
    "fig, ax = plt.subplots(1, 3)\n",
    "labels = [\"initial\", \"middle\", \"final\"]\n",
    "for i in range(3):\n",
    "    ax[i].axis(\"off\")\n",
    "    ax[i].set_title(labels[i])\n",
    "ase.visualize.plot.plot_atoms(traj[0], ax[0], radii=0.8, rotation=(\"-75x, 45y, 10z\"))\n",
    "ase.visualize.plot.plot_atoms(traj[50], ax[1], radii=0.8, rotation=(\"-75x, 45y, 10z\"))\n",
    "ase.visualize.plot.plot_atoms(traj[-1], ax[2], radii=0.8, rotation=(\"-75x, 45y, 10z\"))"
   ]
  },
  {
   "cell_type": "markdown",
   "id": "46189e31-d1f2-415a-9f68-9616cb0a5e22",
   "metadata": {
    "id": "SSR1vQZ1_Ojq"
   },
   "source": [
    "### Data contents <a name=\"contents\"></a>\n",
    "\n",
    "Here we take a closer look at what information is contained within these trajectories."
   ]
  },
  {
   "cell_type": "code",
   "execution_count": null,
   "id": "5480e669-3c11-402e-82cf-61737919df90",
   "metadata": {
    "colab": {
     "base_uri": "https://localhost:8080/"
    },
    "id": "9x8w3o17_May",
    "outputId": "28053d07-2e88-44f7-e8bc-a53c165b96f0"
   },
   "outputs": [],
   "source": [
    "i_structure = traj[0]\n",
    "i_structure"
   ]
  },
  {
   "cell_type": "markdown",
   "id": "07b008a3-0762-477a-8f64-d017e4b2f865",
   "metadata": {
    "id": "4CgeShkN_bdJ"
   },
   "source": [
    "#### Atomic numbers"
   ]
  },
  {
   "cell_type": "code",
   "execution_count": null,
   "id": "cad84d1f-a9d4-4024-820a-dd3f5515f6a0",
   "metadata": {
    "colab": {
     "base_uri": "https://localhost:8080/"
    },
    "id": "cMGTQRIz_f2c",
    "outputId": "9707e5c0-01cc-4356-9f5e-440b79060765"
   },
   "outputs": [],
   "source": [
    "numbers = i_structure.get_atomic_numbers()\n",
    "print(numbers)"
   ]
  },
  {
   "cell_type": "markdown",
   "id": "83ef1b11-d612-4dc3-a3d0-9efc8617ebe4",
   "metadata": {
    "id": "ol4Zi2Gh_qU_"
   },
   "source": [
    "#### Atomic symbols"
   ]
  },
  {
   "cell_type": "code",
   "execution_count": null,
   "id": "ca792b55-6f87-4d20-84f5-5f3792fa6eda",
   "metadata": {
    "colab": {
     "base_uri": "https://localhost:8080/"
    },
    "id": "cwbxks-i_uVq",
    "outputId": "cfb74c48-886f-4292-b570-2a6a55061b81"
   },
   "outputs": [],
   "source": [
    "symbols = np.array(i_structure.get_chemical_symbols())\n",
    "print(symbols)"
   ]
  },
  {
   "cell_type": "markdown",
   "id": "b3067ceb-ab30-4365-8026-c023cb61d02f",
   "metadata": {
    "id": "x57XplOw_yNw"
   },
   "source": [
    "#### Unit cell\n",
    "\n",
    "The unit cell is the volume containing our system of interest. Express as a 3x3 array representing the directional vectors that make up the volume. Illustrated as the dashed box in the above visuals."
   ]
  },
  {
   "cell_type": "code",
   "execution_count": null,
   "id": "54b6824b-b3c7-4a90-b7aa-cc10036a5ab8",
   "metadata": {
    "colab": {
     "base_uri": "https://localhost:8080/"
    },
    "id": "VWMMzn_i_0vM",
    "outputId": "5abc0dc5-5387-4e27-c38b-552f5c015728"
   },
   "outputs": [],
   "source": [
    "cell = np.array(i_structure.cell)\n",
    "print(cell)"
   ]
  },
  {
   "cell_type": "markdown",
   "id": "5dc3a0fd-87e4-40ce-a8b6-2760702e82ec",
   "metadata": {
    "id": "XHRbOyaA_97r"
   },
   "source": [
    "#### Periodic boundary conditions (PBC)\n",
    "\n",
    "x,y,z boolean representing whether a unit cell repeats in the corresponding directions. The OC20 dataset sets this to [True, True, True], with a large enough vacuum layer above the surface such that a unit cell does not see itself in the z direction. Although the original structure shown above is what get's passed into our models, the presence of PBC allows it to effectively repeat infinitely in the x and y directions. Below we visualize the same structure with a periodicity of 2 in all directions, what the model may effectively see."
   ]
  },
  {
   "cell_type": "code",
   "execution_count": null,
   "id": "7614317e-a390-483c-86d3-37f5dded678e",
   "metadata": {
    "colab": {
     "base_uri": "https://localhost:8080/"
    },
    "id": "htvwgCuFAOSB",
    "outputId": "701f940f-c3d8-4674-c691-5178639ddad1"
   },
   "outputs": [],
   "source": [
    "pbc = i_structure.pbc\n",
    "print(pbc)"
   ]
  },
  {
   "cell_type": "code",
   "execution_count": null,
   "id": "9022ddb8-39f2-4acc-9097-c3c58667e9f5",
   "metadata": {
    "colab": {
     "base_uri": "https://localhost:8080/",
     "height": 400
    },
    "id": "Flzo7aO-RgyA",
    "outputId": "27185730-958e-41c5-9a54-a6301a0fedbc"
   },
   "outputs": [],
   "source": [
    "fig, ax = plt.subplots(1, 3)\n",
    "labels = [\"initial\", \"middle\", \"final\"]\n",
    "for i in range(3):\n",
    "    ax[i].axis(\"off\")\n",
    "    ax[i].set_title(labels[i])\n",
    "\n",
    "ase.visualize.plot.plot_atoms(\n",
    "    traj[0].repeat((2, 2, 1)), ax[0], radii=0.8, rotation=(\"-75x, 45y, 10z\")\n",
    ")\n",
    "ase.visualize.plot.plot_atoms(\n",
    "    traj[50].repeat((2, 2, 1)), ax[1], radii=0.8, rotation=(\"-75x, 45y, 10z\")\n",
    ")\n",
    "ase.visualize.plot.plot_atoms(\n",
    "    traj[-1].repeat((2, 2, 1)), ax[2], radii=0.8, rotation=(\"-75x, 45y, 10z\")\n",
    ")"
   ]
  },
  {
   "cell_type": "markdown",
   "id": "c04eb2a1-a6b4-4417-9b30-bc9f5c47a6b2",
   "metadata": {
    "id": "TWGXcH7AARpy"
   },
   "source": [
    "#### Tags\n",
    "\n",
    "The OC20 dataset consists of systems with several different types of atoms. To help with identifying the index of certain atoms, we tag each atom according to where it is found in the system. There are three categories of atoms: \n",
    "- *sub-surface slab atoms*: these are atoms in the bottom layers of the catalyst, furthest away from the adsorbate\n",
    "- *surface slab atoms*: these are atoms in the top layers of the catalyst, close to where the adsorbate will be placed   \n",
    "- *adsorbate atoms*: atoms that make up the adsorbate molecule on top of the catalyst.\n",
    "\n",
    "Tag:\n",
    "\n",
    "0 - Sub-surface slab atoms\n",
    "\n",
    "1 - Surface slab atoms\n",
    "\n",
    "2 - Adsorbate atoms\n"
   ]
  },
  {
   "cell_type": "code",
   "execution_count": null,
   "id": "d1067f58-d72f-41ba-97c4-fc37151c3c13",
   "metadata": {
    "colab": {
     "base_uri": "https://localhost:8080/"
    },
    "id": "SGZzFhsrB5A2",
    "outputId": "722ca696-ad79-4369-f690-38631a064ade"
   },
   "outputs": [],
   "source": [
    "tags = i_structure.get_tags()\n",
    "print(tags)"
   ]
  },
  {
   "cell_type": "markdown",
   "id": "60214387-3b76-442d-9631-008b9e9d8833",
   "metadata": {
    "id": "0zVhbDL2B8cd"
   },
   "source": [
    "#### Fixed atoms constraint\n",
    "\n",
    "In reality, surfaces contain many, many more atoms beneath what we've illustrated as the surface. At an infinite depth, these subsurface atoms would look just like the bulk structure. We approximate a true surface by fixing the subsurface atoms into their “bulk” locations. This ensures that they cannot move at the “bottom” of the surface. If they could, this would throw off our calculations. Consistent with the above, we fix all atoms with tags=0, and denote them as \"fixed\". All other atoms are considered \"free\"."
   ]
  },
  {
   "cell_type": "code",
   "execution_count": null,
   "id": "4c90aced-8d8f-409d-b197-bd0599297681",
   "metadata": {
    "colab": {
     "base_uri": "https://localhost:8080/"
    },
    "id": "FBMUmGrrCD_h",
    "outputId": "a013fdd0-8317-4868-f5e2-4601fdf3f2f6",
    "tags": []
   },
   "outputs": [],
   "source": [
    "cons = i_structure.constraints[0]\n",
    "print(cons, \"\\n\")\n",
    "\n",
    "# indices of fixed atoms\n",
    "indices = cons.index\n",
    "print(indices, \"\\n\")\n",
    "\n",
    "# fixed atoms correspond to tags = 0\n",
    "print(tags[indices])"
   ]
  },
  {
   "cell_type": "markdown",
   "id": "3bc2fd93-1dc8-440c-8bd4-160e4aabd45a",
   "metadata": {
    "id": "_DHAYeBUCHbN"
   },
   "source": [
    "#### Adsorption energy\n",
    "\n",
    "The energy of the system is one of the properties of interest in the OC20 dataset. It's important to note that absolute energies provide little value to researchers and must be referenced properly to be useful. The OC20 dataset references all it's energies to the bare slab + gas references to arrive at adsorption energies. Adsorption energies are important in studying catalysts and their corresponding reaction rates. In addition to the structure relaxations of the OC20 dataset, bare slab and gas (N2, H2, H2O, CO) relaxations were carried out with DFT in order to calculate adsorption energies."
   ]
  },
  {
   "cell_type": "code",
   "execution_count": null,
   "id": "9e7762be-b436-4304-80f2-39293f8b490f",
   "metadata": {
    "colab": {
     "base_uri": "https://localhost:8080/"
    },
    "id": "5XxYqdM7CMdd",
    "outputId": "b2dbb608-d545-4bb0-d3f9-32653c05b0fa"
   },
   "outputs": [],
   "source": [
    "final_structure = traj[-1]\n",
    "relaxed_energy = final_structure.get_potential_energy()\n",
    "print(f\"Relaxed absolute energy = {relaxed_energy} eV\")\n",
    "\n",
    "# Corresponding raw slab used in original adslab (adsorbate+slab) system.\n",
    "raw_slab = fcc100(\"Cu\", size=(3, 3, 3))\n",
    "raw_slab.set_calculator(EMT())\n",
    "raw_slab_energy = raw_slab.get_potential_energy()\n",
    "print(f\"Raw slab energy = {raw_slab_energy} eV\")\n",
    "\n",
    "\n",
    "adsorbate = Atoms(\"C3H8\").get_chemical_symbols()\n",
    "# For clarity, we define arbitrary gas reference energies here.\n",
    "# A more detailed discussion of these calculations can be found in the corresponding paper's SI.\n",
    "gas_reference_energies = {\"H\": 0.3, \"O\": 0.45, \"C\": 0.35, \"N\": 0.50}\n",
    "\n",
    "adsorbate_reference_energy = 0\n",
    "for ads in adsorbate:\n",
    "    adsorbate_reference_energy += gas_reference_energies[ads]\n",
    "\n",
    "print(f\"Adsorbate reference energy = {adsorbate_reference_energy} eV\\n\")\n",
    "\n",
    "adsorption_energy = relaxed_energy - raw_slab_energy - adsorbate_reference_energy\n",
    "print(f\"Adsorption energy: {adsorption_energy} eV\")"
   ]
  },
  {
   "cell_type": "markdown",
   "id": "27d5b9a4-d51b-4060-aa5e-8a28598c401a",
   "metadata": {
    "id": "EchgyYxXCUit"
   },
   "source": [
    "#### Plot energy profile of toy trajectory\n",
    "\n",
    "Plotting the energy profile of our trajectory is a good way to ensure nothing strange has occured. We expect to see a decreasing monotonic function. If the energy is consistently increasing or there's multiple large spikes this could be a sign of some issues in the optimization. This is particularly useful for when analyzing ML-driven relaxations and whether they make general physical sense."
   ]
  },
  {
   "cell_type": "code",
   "execution_count": null,
   "id": "5e334418-7e10-4947-8e26-de071e9a6927",
   "metadata": {
    "colab": {
     "base_uri": "https://localhost:8080/",
     "height": 482
    },
    "id": "WffoTL5pCSrg",
    "outputId": "d90d1c35-f139-43eb-91cb-8f731f1d4d9d"
   },
   "outputs": [],
   "source": [
    "energies = [\n",
    "    image.get_potential_energy() - raw_slab_energy - adsorbate_reference_energy\n",
    "    for image in traj\n",
    "]\n",
    "\n",
    "plt.figure(figsize=(7, 7))\n",
    "plt.plot(range(len(energies)), energies, lw=3)\n",
    "plt.xlabel(\"Step\", fontsize=24)\n",
    "plt.ylabel(\"Energy, eV\", fontsize=24)"
   ]
  },
  {
   "cell_type": "markdown",
   "id": "b232e0ae-2afc-4ec3-a1d9-48917ab18232",
   "metadata": {
    "id": "erpOSowgCeuS"
   },
   "source": [
    "#### Force\n",
    "\n",
    "Forces are another important property of the OC20 dataset. Unlike datasets like QM9 which contain only ground state properties, the OC20 dataset contains per-atom forces necessary to carry out atomistic simulations. Physically, forces are the negative gradient of energy w.r.t atomic positions: $F = -\\frac{dE}{dx}$. Although not mandatory (depending on the application), maintaining this energy-force consistency is important for models that seek to make predictions on both properties.\n",
    "\n",
    "The \"apply_constraint\" argument controls whether to apply system constraints to the forces. In the OC20 dataset, this controls whether to return forces for fixed atoms (apply_constraint=False) or return 0s (apply_constraint=True)."
   ]
  },
  {
   "cell_type": "code",
   "execution_count": null,
   "id": "8e63c99d-f2d2-462f-8878-8a5aca4a1d3b",
   "metadata": {
    "colab": {
     "base_uri": "https://localhost:8080/"
    },
    "id": "NtgLDiT2Cmff",
    "outputId": "10fcadfd-4777-4f11-885e-8f14f8a5c1d8"
   },
   "outputs": [],
   "source": [
    "# Returning forces for all atoms - regardless of whether \"fixed\" or \"free\"\n",
    "i_structure.get_forces(apply_constraint=False)"
   ]
  },
  {
   "cell_type": "code",
   "execution_count": null,
   "id": "a598189c-0084-49b9-9089-d0092c8baee1",
   "metadata": {
    "colab": {
     "base_uri": "https://localhost:8080/"
    },
    "id": "QVgvU-OgCqzx",
    "outputId": "4049a0e0-8790-433c-d427-df0ed1ca9205"
   },
   "outputs": [],
   "source": [
    "# Applying the fixed atoms constraint to the forces\n",
    "i_structure.get_forces(apply_constraint=True)"
   ]
  }
 ],
 "metadata": {
  "kernelspec": {
   "display_name": "Python 3 (ipykernel)",
   "language": "python",
   "name": "python3"
  },
  "language_info": {
   "codemirror_mode": {
    "name": "ipython",
    "version": 3
   },
   "file_extension": ".py",
   "mimetype": "text/x-python",
   "name": "python",
   "nbconvert_exporter": "python",
   "pygments_lexer": "ipython3",
   "version": "3.9.13"
  }
 },
 "nbformat": 4,
 "nbformat_minor": 5
}
