{
 "cells": [
  {
   "cell_type": "markdown",
   "id": "db847816-a7da-4d9e-8e00-4ad999983e76",
   "metadata": {
    "id": "y6Hx8JtXEbW-"
   },
   "source": [
    "# Structural relaxations\n",
    "\n",
    "A structural relaxation or structure optimization is the process of iteratively updating atom positions to find the atom positions that minimize the energy of the structure. Standard optimization methods are used in structural relaxations — below we use the Limited-Memory Broyden–Fletcher–Goldfarb–Shanno (LBFGS) algorithm. The step number, time, energy, and force max are printed at each optimization step. Each step is considered one example because it provides all the information we need to train models for the S2EF task and the entire set of steps is referred to as a trajectory. Visualizing intermediate structures or viewing the entire trajectory can be illuminating to understand what is physically happening and to look for problems in the simulation, especially when we run ML-driven relaxations. Common problems one may look out for - atoms excessively overlapping/colliding with each other and atoms flying off into random directions."
   ]
  },
  {
   "cell_type": "code",
   "execution_count": null,
   "id": "9b661211-0a72-4d68-964b-90bbf3ad5937",
   "metadata": {
    "colab": {
     "base_uri": "https://localhost:8080/"
    },
    "id": "GEpQz9In9GrX",
    "outputId": "7d04503a-ed33-4cd6-e76a-6f391448e1a9"
   },
   "outputs": [],
   "source": [
    "# This cell sets up and runs a structural relaxation \n",
    "# of a propane (C3H8) adsorbate on a copper (Cu) surface\n",
    "\n",
    "adslab = fcc100(\"Cu\", size=(3, 3, 3))\n",
    "adsorbate = molecule(\"C3H8\")\n",
    "add_adsorbate(adslab, adsorbate, 3, offset=(1, 1)) # adslab = adsorbate + slab\n",
    "\n",
    "# tag all slab atoms below surface as 0, surface as 1, adsorbate as 2\n",
    "tags = np.zeros(len(adslab))\n",
    "tags[18:27] = 1\n",
    "tags[27:] = 2\n",
    "\n",
    "adslab.set_tags(tags)\n",
    "\n",
    "# Fixed atoms are prevented from moving during a structure relaxation. \n",
    "# We fix all slab atoms beneath the surface. \n",
    "cons= FixAtoms(indices=[atom.index for atom in adslab if (atom.tag == 0)])\n",
    "adslab.set_constraint(cons)\n",
    "adslab.center(vacuum=13.0, axis=2)\n",
    "adslab.set_pbc(True)\n",
    "adslab.set_calculator(EMT())\n",
    "\n",
    "os.makedirs('data', exist_ok=True)\n",
    "\n",
    "# Define structure optimizer - LBFGS. Run for 100 steps, \n",
    "# or if the max force on all atoms (fmax) is below 0 ev/A.\n",
    "# fmax is typically set to 0.01-0.05 eV/A, \n",
    "# for this demo however we run for the full 100 steps.\n",
    "\n",
    "dyn = LBFGS(adslab, trajectory=\"data/toy_c3h8_relax.traj\")\n",
    "dyn.run(fmax=0, steps=100)\n",
    "\n",
    "traj = ase.io.read(\"data/toy_c3h8_relax.traj\", \":\")\n",
    "\n",
    "# convert traj format to extxyz format (used by OC20 dataset)\n",
    "columns = (['symbols','positions', 'move_mask', 'tags'])\n",
    "with open('data/toy_c3h8_relax.extxyz','w') as f:\n",
    "    extxyz.write_xyz(f, traj, columns=columns)"
   ]
  },
  {
   "cell_type": "markdown",
   "id": "ae86b5e1-9f64-4174-98b6-e0b915ff385a",
   "metadata": {
    "id": "Kb77jRtz9fws"
   },
   "source": [
    "### Reading a trajectory"
   ]
  },
  {
   "cell_type": "code",
   "execution_count": null,
   "id": "48a45dad-26b1-4306-8ddd-5b6d396bc048",
   "metadata": {
    "id": "mUbvcij59d6I"
   },
   "outputs": [],
   "source": [
    "identifier = \"toy_c3h8_relax.extxyz\"\n",
    "\n",
    "# the `index` argument corresponds to what frame of the trajectory to read in, specifiying \":\" reads in the full trajectory.\n",
    "traj = ase.io.read(f\"data/{identifier}\", index=\":\")"
   ]
  },
  {
   "cell_type": "markdown",
   "id": "6014575c-5cc3-4916-bbd1-3cff632af0cd",
   "metadata": {
    "id": "b_e6zDVx9pTC"
   },
   "source": [
    "### Viewing a trajectory\n",
    "\n",
    "Below we visualize the initial, middle, and final steps in the structural relaxation trajectory from above. Copper atoms in the surface are colored orange, the propane adsorbate on the surface has grey colored carbon atoms and white colored hydrogen atoms. The adsorbate’s structure changes during the simulation and you can see how it relaxes on the surface. In this case, the relaxation looks normal; however, there can be instances where the adsorbate flies away (desorbs) from the surface or the adsorbate can break apart (dissociation), which are hard to detect without visualization. Additionally, visualizations can be used as a quick sanity check to ensure the initial system is set up correctly and there are no major issues with the simulation.\n"
   ]
  },
  {
   "cell_type": "code",
   "execution_count": null,
   "id": "571827c6-d894-48c8-94b1-f7c21ac6a4a8",
   "metadata": {
    "colab": {
     "base_uri": "https://localhost:8080/",
     "height": 680
    },
    "id": "CV5qe6IP9vZg",
    "outputId": "4a288a51-86ca-475a-af38-f59c09944e70"
   },
   "outputs": [],
   "source": [
    "fig, ax = plt.subplots(1, 3)\n",
    "labels = ['initial', 'middle', 'final']\n",
    "for i in range(3):\n",
    "    ax[i].axis('off')\n",
    "    ax[i].set_title(labels[i])\n",
    "ase.visualize.plot.plot_atoms(traj[0], \n",
    "                              ax[0], \n",
    "                              radii=0.8, \n",
    "                              rotation=(\"-75x, 45y, 10z\"))\n",
    "ase.visualize.plot.plot_atoms(traj[50], \n",
    "                              ax[1], \n",
    "                              radii=0.8, \n",
    "                              rotation=(\"-75x, 45y, 10z\"))\n",
    "ase.visualize.plot.plot_atoms(traj[-1], \n",
    "                              ax[2], \n",
    "                              radii=0.8, \n",
    "                              rotation=(\"-75x, 45y, 10z\"))"
   ]
  },
  {
   "cell_type": "markdown",
   "id": "46189e31-d1f2-415a-9f68-9616cb0a5e22",
   "metadata": {
    "id": "SSR1vQZ1_Ojq"
   },
   "source": [
    "### Data contents <a name=\"contents\"></a>\n",
    "\n",
    "Here we take a closer look at what information is contained within these trajectories."
   ]
  },
  {
   "cell_type": "code",
   "execution_count": null,
   "id": "5480e669-3c11-402e-82cf-61737919df90",
   "metadata": {
    "colab": {
     "base_uri": "https://localhost:8080/"
    },
    "id": "9x8w3o17_May",
    "outputId": "28053d07-2e88-44f7-e8bc-a53c165b96f0"
   },
   "outputs": [],
   "source": [
    "i_structure = traj[0]\n",
    "i_structure"
   ]
  },
  {
   "cell_type": "markdown",
   "id": "07b008a3-0762-477a-8f64-d017e4b2f865",
   "metadata": {
    "id": "4CgeShkN_bdJ"
   },
   "source": [
    "#### Atomic numbers"
   ]
  },
  {
   "cell_type": "code",
   "execution_count": null,
   "id": "cad84d1f-a9d4-4024-820a-dd3f5515f6a0",
   "metadata": {
    "colab": {
     "base_uri": "https://localhost:8080/"
    },
    "id": "cMGTQRIz_f2c",
    "outputId": "9707e5c0-01cc-4356-9f5e-440b79060765"
   },
   "outputs": [],
   "source": [
    "numbers = i_structure.get_atomic_numbers()\n",
    "print(numbers)"
   ]
  },
  {
   "cell_type": "markdown",
   "id": "83ef1b11-d612-4dc3-a3d0-9efc8617ebe4",
   "metadata": {
    "id": "ol4Zi2Gh_qU_"
   },
   "source": [
    "#### Atomic symbols"
   ]
  },
  {
   "cell_type": "code",
   "execution_count": null,
   "id": "ca792b55-6f87-4d20-84f5-5f3792fa6eda",
   "metadata": {
    "colab": {
     "base_uri": "https://localhost:8080/"
    },
    "id": "cwbxks-i_uVq",
    "outputId": "cfb74c48-886f-4292-b570-2a6a55061b81"
   },
   "outputs": [],
   "source": [
    "symbols = np.array(i_structure.get_chemical_symbols())\n",
    "print(symbols)"
   ]
  },
  {
   "cell_type": "markdown",
   "id": "b3067ceb-ab30-4365-8026-c023cb61d02f",
   "metadata": {
    "id": "x57XplOw_yNw"
   },
   "source": [
    "#### Unit cell\n",
    "\n",
    "The unit cell is the volume containing our system of interest. Express as a 3x3 array representing the directional vectors that make up the volume. Illustrated as the dashed box in the above visuals."
   ]
  },
  {
   "cell_type": "code",
   "execution_count": null,
   "id": "54b6824b-b3c7-4a90-b7aa-cc10036a5ab8",
   "metadata": {
    "colab": {
     "base_uri": "https://localhost:8080/"
    },
    "id": "VWMMzn_i_0vM",
    "outputId": "5abc0dc5-5387-4e27-c38b-552f5c015728"
   },
   "outputs": [],
   "source": [
    "cell = np.array(i_structure.cell)\n",
    "print(cell)"
   ]
  },
  {
   "cell_type": "markdown",
   "id": "5dc3a0fd-87e4-40ce-a8b6-2760702e82ec",
   "metadata": {
    "id": "XHRbOyaA_97r"
   },
   "source": [
    "#### Periodic boundary conditions (PBC)\n",
    "\n",
    "x,y,z boolean representing whether a unit cell repeats in the corresponding directions. The OC20 dataset sets this to [True, True, True], with a large enough vacuum layer above the surface such that a unit cell does not see itself in the z direction. Although the original structure shown above is what get's passed into our models, the presence of PBC allows it to effectively repeat infinitely in the x and y directions. Below we visualize the same structure with a periodicity of 2 in all directions, what the model may effectively see."
   ]
  },
  {
   "cell_type": "code",
   "execution_count": null,
   "id": "7614317e-a390-483c-86d3-37f5dded678e",
   "metadata": {
    "colab": {
     "base_uri": "https://localhost:8080/"
    },
    "id": "htvwgCuFAOSB",
    "outputId": "701f940f-c3d8-4674-c691-5178639ddad1"
   },
   "outputs": [],
   "source": [
    "pbc = i_structure.pbc\n",
    "print(pbc)"
   ]
  },
  {
   "cell_type": "code",
   "execution_count": null,
   "id": "9022ddb8-39f2-4acc-9097-c3c58667e9f5",
   "metadata": {
    "colab": {
     "base_uri": "https://localhost:8080/",
     "height": 400
    },
    "id": "Flzo7aO-RgyA",
    "outputId": "27185730-958e-41c5-9a54-a6301a0fedbc"
   },
   "outputs": [],
   "source": [
    "fig, ax = plt.subplots(1, 3)\n",
    "labels = ['initial', 'middle', 'final']\n",
    "for i in range(3):\n",
    "    ax[i].axis('off')\n",
    "    ax[i].set_title(labels[i])\n",
    "\n",
    "ase.visualize.plot.plot_atoms(traj[0].repeat((2,2,1)), \n",
    "                              ax[0], \n",
    "                              radii=0.8, \n",
    "                              rotation=(\"-75x, 45y, 10z\"))\n",
    "ase.visualize.plot.plot_atoms(traj[50].repeat((2,2,1)), \n",
    "                              ax[1], \n",
    "                              radii=0.8, \n",
    "                              rotation=(\"-75x, 45y, 10z\"))\n",
    "ase.visualize.plot.plot_atoms(traj[-1].repeat((2,2,1)), \n",
    "                              ax[2], \n",
    "                              radii=0.8, \n",
    "                              rotation=(\"-75x, 45y, 10z\"))"
   ]
  }
 ],
 "metadata": {
  "kernelspec": {
   "display_name": "Python 3 (ipykernel)",
   "language": "python",
   "name": "python3"
  },
  "language_info": {
   "codemirror_mode": {
    "name": "ipython",
    "version": 3
   },
   "file_extension": ".py",
   "mimetype": "text/x-python",
   "name": "python",
   "nbconvert_exporter": "python",
   "pygments_lexer": "ipython3",
   "version": "3.9.13"
  }
 },
 "nbformat": 4,
 "nbformat_minor": 5
}
