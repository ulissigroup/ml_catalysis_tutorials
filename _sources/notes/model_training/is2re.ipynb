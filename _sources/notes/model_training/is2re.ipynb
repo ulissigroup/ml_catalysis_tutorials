{
 "cells": [
  {
   "cell_type": "markdown",
   "id": "fa15d915-ccfd-4aab-9cea-5fdfd4dd1882",
   "metadata": {
    "id": "o8L28axZ4NVj",
    "tags": []
   },
   "source": [
    "# Initial Structure to Relaxed Energy (IS2RE) <a name=\"is2re\"></a>\n",
    "The IS2RE task predicts the relaxed energy (energy of the relaxed state) given the initial state of a system. One approach to this is by training a regression model mapping the initial structure to the relaxed energy. We call this the *direct* approach to the IS2RE task. \n",
    "\n",
    "An alternative is to perform a structure relaxation using an S2EF model to obtain the relaxed state and compute the energy of that state (see the IS2RS task below for details about relaxation).\n",
    "\n",
    "### Steps for training an IS2RE model\n",
    "1) Define or load a configuration (config), which includes the following\n",
    "* task\n",
    "* model\n",
    "* optimizer\n",
    "* dataset\n",
    "* trainer\n",
    "\n",
    "2) Create an EnergyTrainer object\n",
    "\n",
    "3) Train the model\n",
    "\n",
    "4) Validate the model"
   ]
  },
  {
   "cell_type": "markdown",
   "id": "93ba122e-4d44-405b-a50f-f33fa21c2534",
   "metadata": {
    "id": "kEPPcr0YYHpH"
   },
   "source": [
    "### Imports"
   ]
  },
  {
   "cell_type": "code",
   "execution_count": null,
   "id": "4d12c5b4-49b2-40b1-b25c-6f25a52c8cf6",
   "metadata": {
    "id": "d-0GsaGDW16G"
   },
   "outputs": [],
   "source": [
    "from ocpmodels.trainers import EnergyTrainer\n",
    "from ocpmodels.datasets import SinglePointLmdbDataset\n",
    "from ocpmodels import models\n",
    "from ocpmodels.common import logger\n",
    "from ocpmodels.common.utils import setup_logging\n",
    "setup_logging()\n",
    "\n",
    "import numpy as np\n",
    "import copy\n",
    "import os"
   ]
  },
  {
   "cell_type": "markdown",
   "id": "d3239cb3-b56b-40d5-9483-419ebfb2b04c",
   "metadata": {
    "id": "w20BJZ_GYWat"
   },
   "source": [
    "### Dataset"
   ]
  },
  {
   "cell_type": "code",
   "execution_count": null,
   "id": "1202eea8-cd02-44dc-b952-8198d3b414d7",
   "metadata": {},
   "outputs": [],
   "source": [
    "%%bash\n",
    "mkdir data\n",
    "cd data\n",
    "wget -q -nc http://dl.fbaipublicfiles.com/opencatalystproject/data/tutorial_data.tar.gz -O tutorial_data.tar.gz\n",
    "tar -xzvf tutorial_data.tar.gz"
   ]
  },
  {
   "cell_type": "code",
   "execution_count": null,
   "id": "b99cef08-5e5e-49ed-a91e-63da6e19ba79",
   "metadata": {
    "id": "BlL5gGPQW1te"
   },
   "outputs": [],
   "source": [
    "train_src = \"data/is2re/train_100/data.lmdb\"\n",
    "val_src = \"data/is2re/val_20/data.lmdb\""
   ]
  },
  {
   "cell_type": "markdown",
   "id": "4ac60b61-3bfd-4f17-858c-253f66b30303",
   "metadata": {
    "id": "yT5qHT2wamPh"
   },
   "source": [
    "### Normalize data\n",
    "\n",
    "If you wish to normalize the targets we must compute the mean and standard deviation for our energy values."
   ]
  },
  {
   "cell_type": "code",
   "execution_count": null,
   "id": "52ed770a-998e-49cd-9c68-00f2334d198a",
   "metadata": {
    "colab": {
     "base_uri": "https://localhost:8080/"
    },
    "id": "vaY-ZUMaamPh",
    "outputId": "ec2a83f1-eb4c-443a-a2de-215c8286038a"
   },
   "outputs": [],
   "source": [
    "train_dataset = SinglePointLmdbDataset({\"src\": train_src})\n",
    "\n",
    "energies = []\n",
    "for data in train_dataset:\n",
    "  energies.append(data.y_relaxed)\n",
    "\n",
    "mean = np.mean(energies)\n",
    "stdev = np.std(energies)"
   ]
  },
  {
   "cell_type": "markdown",
   "id": "169264bd-e5e1-4f90-824e-2ec493a231fc",
   "metadata": {
    "id": "K4SSW0UGYeYM"
   },
   "source": [
    "### Define the Config\n",
    "\n",
    "For this example, we will explicitly define the config; however, a set of default configs can be found [here](https://github.com/Open-Catalyst-Project/ocp/tree/master/configs). Default config yaml files can easily be loaded with the following [utility](https://github.com/Open-Catalyst-Project/ocp/blob/aa8e44d50229fce887b3a94a5661c4f85cd73eed/ocpmodels/common/utils.py#L361-L400). Loading a yaml config is preferrable when launching jobs from the command line. We have included our best models' config files here for reference. \n",
    "\n",
    "**Note** - we only train for a single epoch with a reduced batch size (GPU memory constraints) for demonstration purposes, modify accordingly for full convergence."
   ]
  },
  {
   "cell_type": "code",
   "execution_count": null,
   "id": "92bccc51-4204-4e5f-ae82-653e28e26fe0",
   "metadata": {
    "id": "TiHmkTm6W1do"
   },
   "outputs": [],
   "source": [
    "# Task\n",
    "task = {\n",
    "  \"dataset\": \"single_point_lmdb\",\n",
    "  \"description\": \"Relaxed state energy prediction from initial structure.\",\n",
    "  \"type\": \"regression\",\n",
    "  \"metric\": \"mae\",\n",
    "  \"labels\": [\"relaxed energy\"],\n",
    "}\n",
    "# Model\n",
    "model = {\n",
    "    'name': 'gemnet_t',\n",
    "    \"num_spherical\": 7,\n",
    "    \"num_radial\": 64,\n",
    "    \"num_blocks\": 5,\n",
    "    \"emb_size_atom\": 256,\n",
    "    \"emb_size_edge\": 512,\n",
    "    \"emb_size_trip\": 64,\n",
    "    \"emb_size_rbf\": 16,\n",
    "    \"emb_size_cbf\": 16,\n",
    "    \"emb_size_bil_trip\": 64,\n",
    "    \"num_before_skip\": 1,\n",
    "    \"num_after_skip\": 2,\n",
    "    \"num_concat\": 1,\n",
    "    \"num_atom\": 3,\n",
    "    \"cutoff\": 6.0,\n",
    "    \"max_neighbors\": 50,\n",
    "    \"rbf\": {\"name\": \"gaussian\"},\n",
    "    \"envelope\": {\n",
    "      \"name\": \"polynomial\",\n",
    "      \"exponent\": 5,\n",
    "    },\n",
    "    \"cbf\": {\"name\": \"spherical_harmonics\"},\n",
    "    \"extensive\": True,\n",
    "    \"otf_graph\": False,\n",
    "    \"output_init\": \"HeOrthogonal\",\n",
    "    \"activation\": \"silu\",\n",
    "    \"scale_file\": \"configs/s2ef/all/gemnet/scaling_factors/gemnet-dT.json\",\n",
    "    \"regress_forces\": False,\n",
    "    \"direct_forces\": False,\n",
    "}\n",
    "# Optimizer\n",
    "optimizer = {\n",
    "    'batch_size': 1,         # originally 32\n",
    "    'eval_batch_size': 1,    # originally 32\n",
    "    'num_workers': 2,\n",
    "    'lr_initial': 1.e-4,\n",
    "    'optimizer': 'AdamW',\n",
    "    'optimizer_params': {\"amsgrad\": True},\n",
    "    'scheduler': \"ReduceLROnPlateau\",\n",
    "    'mode': \"min\",\n",
    "    'factor': 0.8,\n",
    "    'patience': 3,\n",
    "    'max_epochs': 1,         # used for demonstration purposes\n",
    "    'ema_decay': 0.999,\n",
    "    'clip_grad_norm': 10,\n",
    "    'loss_energy': 'mae',\n",
    "}\n",
    "# Dataset\n",
    "dataset = [\n",
    "  {'src': train_src,\n",
    "   'normalize_labels': True,\n",
    "   'target_mean': mean,\n",
    "   'target_std': stdev,\n",
    "  }, # train set \n",
    "  {'src': val_src}, # val set (optional)\n",
    "]"
   ]
  },
  {
   "cell_type": "markdown",
   "id": "b458f0d5-11c1-47fd-9645-c77ddce2c185",
   "metadata": {
    "id": "oG5w1sk-v1LI"
   },
   "source": [
    "###Create EnergyTrainer"
   ]
  },
  {
   "cell_type": "code",
   "execution_count": null,
   "id": "a63f53e2-bd3a-4a5f-b42c-a8b48d04cf47",
   "metadata": {
    "colab": {
     "base_uri": "https://localhost:8080/"
    },
    "id": "ExmkV2K1W07H",
    "outputId": "98e8408c-ec4d-461b-e50a-2fdc1a24bf16"
   },
   "outputs": [],
   "source": [
    "energy_trainer = EnergyTrainer(\n",
    "    task=task,\n",
    "    model=copy.deepcopy(model), # copied for later use, not necessary in practice.\n",
    "    dataset=dataset,\n",
    "    optimizer=optimizer,\n",
    "    identifier=\"IS2RE-example\",\n",
    "    run_dir=\"./\", # directory to save results if is_debug=False. Prediction files are saved here so be careful not to override!\n",
    "    is_debug=False, # if True, do not save checkpoint, logs, or results\n",
    "    print_every=5,\n",
    "    seed=0, # random seed to use\n",
    "    logger=\"tensorboard\", # logger of choice (tensorboard and wandb supported)\n",
    "    local_rank=0,\n",
    "    amp=True, # use PyTorch Automatic Mixed Precision (faster training and less memory usage)    \n",
    ")"
   ]
  },
  {
   "cell_type": "code",
   "execution_count": null,
   "id": "661e9599-bb94-45ed-9ffe-170064f6385b",
   "metadata": {
    "colab": {
     "base_uri": "https://localhost:8080/"
    },
    "id": "tnJer5rGwjwi",
    "outputId": "fc4755a7-6cf8-4599-a164-a2fa3ac1b1e7",
    "tags": [
     "hide-output"
    ]
   },
   "outputs": [],
   "source": [
    "energy_trainer.model"
   ]
  },
  {
   "cell_type": "markdown",
   "id": "9ef4f9c2-ec91-44e1-8e47-5d5e427d535c",
   "metadata": {
    "id": "pto2SpJPwlz1"
   },
   "source": [
    "### Train the Model"
   ]
  },
  {
   "cell_type": "code",
   "execution_count": null,
   "id": "666bb1b9-ecbf-4f0a-84a5-d043659bf82b",
   "metadata": {
    "colab": {
     "base_uri": "https://localhost:8080/",
     "height": 869
    },
    "id": "iHMRkFplwsky",
    "outputId": "44955d60-2dab-4861-aa3d-2979a3a8ba68"
   },
   "outputs": [],
   "source": [
    "energy_trainer.train()"
   ]
  },
  {
   "cell_type": "markdown",
   "id": "e6c17e47-f972-4466-b5de-29bcb31eaeb4",
   "metadata": {
    "id": "MkAd2MBmw8wO"
   },
   "source": [
    "### Validate the Model"
   ]
  },
  {
   "cell_type": "markdown",
   "id": "3150c89c-51b6-4fac-adcf-09edfc379efd",
   "metadata": {
    "id": "gaauxWdNw_-4"
   },
   "source": [
    "#### Load the best checkpoint"
   ]
  },
  {
   "cell_type": "code",
   "execution_count": null,
   "id": "dd1081b9-5fad-4239-bbaa-9150e33f7e5f",
   "metadata": {
    "colab": {
     "base_uri": "https://localhost:8080/"
    },
    "id": "xkj0Bslqws_N",
    "outputId": "1a880659-3333-47cd-cb20-fceea591af96"
   },
   "outputs": [],
   "source": [
    "# The `best_checpoint.pt` file contains the checkpoint with the best val performance\n",
    "checkpoint_path = os.path.join(energy_trainer.config[\"cmd\"][\"checkpoint_dir\"], \"best_checkpoint.pt\")\n",
    "checkpoint_path"
   ]
  },
  {
   "cell_type": "code",
   "execution_count": null,
   "id": "b5464f6f-6265-4923-a0a3-7c34599e33ee",
   "metadata": {
    "colab": {
     "base_uri": "https://localhost:8080/"
    },
    "id": "BqmCqaFlbMZC",
    "outputId": "b59c0106-0b49-4c8f-fb00-6cd1264b7066"
   },
   "outputs": [],
   "source": [
    "# Append the dataset with the test set. We use the same val set for demonstration.\n",
    "\n",
    "# Dataset\n",
    "dataset.append(\n",
    "  {'src': val_src}, # test set (optional)\n",
    ")\n",
    "dataset"
   ]
  },
  {
   "cell_type": "code",
   "execution_count": null,
   "id": "54da86b4-75de-4c3c-a217-9a34430d365e",
   "metadata": {
    "colab": {
     "base_uri": "https://localhost:8080/",
     "height": 1000
    },
    "id": "IkcqadZIxXP-",
    "outputId": "1065675e-4191-44a3-eaba-be3b6228b796"
   },
   "outputs": [],
   "source": [
    "pretrained_energy_trainer = EnergyTrainer(\n",
    "    task=task,\n",
    "    model=model,\n",
    "    dataset=dataset,\n",
    "    optimizer=optimizer,\n",
    "    identifier=\"IS2RE-val-example\",\n",
    "    run_dir=\"./\", # directory to save results if is_debug=False. Prediction files are saved here so be careful not to override!\n",
    "    is_debug=False, # if True, do not save checkpoint, logs, or results\n",
    "    print_every=10,\n",
    "    seed=0, # random seed to use\n",
    "    logger=\"tensorboard\", # logger of choice (tensorboard and wandb supported)\n",
    "    local_rank=0,\n",
    "    amp=True, # use PyTorch Automatic Mixed Precision (faster training and less memory usage)\n",
    ")\n",
    "\n",
    "pretrained_energy_trainer.load_checkpoint(checkpoint_path=checkpoint_path)"
   ]
  },
  {
   "cell_type": "markdown",
   "id": "d55ecce8-3605-4fbb-bd36-6aa32d0698d6",
   "metadata": {
    "id": "TcUvAI81xoSt"
   },
   "source": [
    "#### Test the model"
   ]
  },
  {
   "cell_type": "code",
   "execution_count": null,
   "id": "578bf58e-5b2b-40b7-90d5-ab5b6774290a",
   "metadata": {
    "colab": {
     "base_uri": "https://localhost:8080/",
     "height": 311
    },
    "id": "VtCEFtXxxr3u",
    "outputId": "ee921fdd-a12a-4364-f182-2df48b318310"
   },
   "outputs": [],
   "source": [
    "# make predictions on the existing test_loader\n",
    "predictions = pretrained_energy_trainer.predict(pretrained_trainer.test_loader, results_file=\"is2re_results\", disable_tqdm=False)"
   ]
  },
  {
   "cell_type": "code",
   "execution_count": null,
   "id": "118ff20c-2e32-4c4a-8d8b-9aea0f9d4879",
   "metadata": {
    "id": "1UcfxFi4x4aD"
   },
   "outputs": [],
   "source": [
    "energies = predictions[\"energy\"]"
   ]
  }
 ],
 "metadata": {
  "kernelspec": {
   "display_name": "Python 3 (ipykernel)",
   "language": "python",
   "name": "python3"
  },
  "language_info": {
   "codemirror_mode": {
    "name": "ipython",
    "version": 3
   },
   "file_extension": ".py",
   "mimetype": "text/x-python",
   "name": "python",
   "nbconvert_exporter": "python",
   "pygments_lexer": "ipython3",
   "version": "3.9.13"
  }
 },
 "nbformat": 4,
 "nbformat_minor": 5
}
