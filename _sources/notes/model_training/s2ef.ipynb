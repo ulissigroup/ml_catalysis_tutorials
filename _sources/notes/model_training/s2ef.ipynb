{
 "cells": [
  {
   "cell_type": "markdown",
   "id": "22c4bd23-e38d-45e5-93b8-0e8bba6a0e86",
   "metadata": {
    "id": "yWXsiZ5freTG",
    "tags": []
   },
   "source": [
    "# Structure to Energy and Forces (S2EF) <a name=\"s2ef\"></a>\n",
    "\n",
    "The S2EF task takes an atomic system as input and predicts the energy of the entire system and forces on each atom. This is our most general task, ultimately serving as a surrogate to DFT. A model that can perform well on this task can accelerate other applications like molecular dynamics and transitions tate calculations.\n",
    "\n",
    "### Steps for training an S2EF model\n",
    "1) Define or load a configuration (config), which includes the following\n",
    "* task\n",
    "* model\n",
    "* optimizer\n",
    "* dataset\n",
    "* trainer\n",
    "\n",
    "2) Create a ForcesTrainer object\n",
    "\n",
    "3) Train the model\n",
    "\n",
    "4) Validate the model\n",
    "\n",
    "`````{warning}\n",
    "For storage and compute reasons we use a very small subset of the OC20 S2EF dataset for this tutorial. Results will be considerably worse than presented in our paper.\n",
    "`````"
   ]
  },
  {
   "cell_type": "markdown",
   "id": "ccc76871-96b3-40a2-872c-88b9056d7732",
   "metadata": {
    "id": "2snWOAxnPPyd"
   },
   "source": [
    "### Imports"
   ]
  },
  {
   "cell_type": "code",
   "execution_count": null,
   "id": "6411ebcf-094b-4537-b6ce-d0ac4cfc1dc0",
   "metadata": {
    "id": "l-1rNyuk_1Mo"
   },
   "outputs": [],
   "source": [
    "from ocpmodels.trainers import ForcesTrainer\n",
    "from ocpmodels.datasets import TrajectoryLmdbDataset\n",
    "import ocpmodels.models\n",
    "from ocpmodels.common import logger\n",
    "from ocpmodels.common.utils import setup_logging\n",
    "setup_logging()\n",
    "\n",
    "import numpy as np\n",
    "import copy\n",
    "import os"
   ]
  },
  {
   "cell_type": "markdown",
   "id": "d8497a28-19af-4cc1-9504-4cc8711f96ca",
   "metadata": {
    "id": "OmkUDMQgP5he"
   },
   "source": [
    "### Dataset"
   ]
  },
  {
   "cell_type": "code",
   "execution_count": null,
   "id": "45206413-4243-472d-ae84-fe988761f254",
   "metadata": {},
   "outputs": [],
   "source": [
    "%%bash\n",
    "mkdir data\n",
    "cd data\n",
    "wget -q -nc http://dl.fbaipublicfiles.com/opencatalystproject/data/tutorial_data.tar.gz -O tutorial_data.tar.gz\n",
    "tar -xzvf tutorial_data.tar.gz"
   ]
  },
  {
   "cell_type": "code",
   "execution_count": null,
   "id": "661887da-4a57-4f12-951a-5b4be114527b",
   "metadata": {
    "id": "1SHl_1eQP4mW"
   },
   "outputs": [],
   "source": [
    "train_src = \"data/s2ef/train_100\"\n",
    "val_src = \"data/s2ef/val_20\""
   ]
  },
  {
   "cell_type": "markdown",
   "id": "28a878d0-1c16-41a5-bef7-5f4376b1df3d",
   "metadata": {
    "id": "ZUpFFV2OWyYJ"
   },
   "source": [
    "### Normalize data\n",
    "\n",
    "If you wish to normalize the targets we must compute the mean and standard deviation for our energy values. Because forces are physically related by the negative gradient of energy, we use the same multiplicative energy factor for forces."
   ]
  },
  {
   "cell_type": "code",
   "execution_count": null,
   "id": "c5c0ad40-7669-4bce-a8b7-ee5bfe663a13",
   "metadata": {
    "colab": {
     "base_uri": "https://localhost:8080/"
    },
    "id": "HAJ3x4SnXE1o",
    "outputId": "4cc0a304-4b91-405c-89f7-d44d802d1f98"
   },
   "outputs": [],
   "source": [
    "train_dataset = TrajectoryLmdbDataset({\"src\": train_src})\n",
    "\n",
    "energies = []\n",
    "for data in train_dataset:\n",
    "  energies.append(data.y)\n",
    "\n",
    "mean = np.mean(energies)\n",
    "stdev = np.std(energies)"
   ]
  },
  {
   "cell_type": "markdown",
   "id": "02fa528b-7748-4c4a-865f-f108dc016d34",
   "metadata": {
    "id": "ruspSf6CQIk4"
   },
   "source": [
    "### Define the Config"
   ]
  },
  {
   "cell_type": "markdown",
   "id": "e4e5ca5a-6236-4da8-b022-aba368cf28d7",
   "metadata": {
    "id": "6R6IkYLCQPpH"
   },
   "source": [
    "For this example, we will explicitly define the config; however, a set of default configs can be found [here](https://github.com/Open-Catalyst-Project/ocp/tree/master/configs). Default config yaml files can easily be loaded with the following [utility](https://github.com/Open-Catalyst-Project/ocp/blob/aa8e44d50229fce887b3a94a5661c4f85cd73eed/ocpmodels/common/utils.py#L361-L400). Loading a yaml config is preferrable when launching jobs from the command line. We have included our best models' config files here for reference. \n",
    "\n",
    "**Note** - we only train for a single epoch with a reduced batch size (GPU memory constraints) for demonstration purposes, modify accordingly for full convergence."
   ]
  },
  {
   "cell_type": "code",
   "execution_count": null,
   "id": "314e678c-76aa-498e-96d9-afe79a046aed",
   "metadata": {
    "id": "j6Z_XbkiPGR9"
   },
   "outputs": [],
   "source": [
    "# Task\n",
    "task = {\n",
    "    'dataset': 'trajectory_lmdb', # dataset used for the S2EF task\n",
    "    'description': 'Regressing to energies and forces for DFT trajectories from OCP',\n",
    "    'type': 'regression',\n",
    "    'metric': 'mae',\n",
    "    'labels': ['potential energy'],\n",
    "    'grad_input': 'atomic forces',\n",
    "    'train_on_free_atoms': True,\n",
    "    'eval_on_free_atoms': True\n",
    "}\n",
    "# Model\n",
    "model = {\n",
    "    'name': 'gemnet_t',\n",
    "    \"num_spherical\": 7,\n",
    "    \"num_radial\": 128,\n",
    "    \"num_blocks\": 3,\n",
    "    \"emb_size_atom\": 512,\n",
    "    \"emb_size_edge\": 512,\n",
    "    \"emb_size_trip\": 64,\n",
    "    \"emb_size_rbf\": 16,\n",
    "    \"emb_size_cbf\": 16,\n",
    "    \"emb_size_bil_trip\": 64,\n",
    "    \"num_before_skip\": 1,\n",
    "    \"num_after_skip\": 2,\n",
    "    \"num_concat\": 1,\n",
    "    \"num_atom\": 3,\n",
    "    \"cutoff\": 6.0,\n",
    "    \"max_neighbors\": 50,\n",
    "    \"rbf\": {\"name\": \"gaussian\"},\n",
    "    \"envelope\": {\n",
    "      \"name\": \"polynomial\",\n",
    "      \"exponent\": 5,\n",
    "    },\n",
    "    \"cbf\": {\"name\": \"spherical_harmonics\"},\n",
    "    \"extensive\": True,\n",
    "    \"otf_graph\": False,\n",
    "    \"output_init\": \"HeOrthogonal\",\n",
    "    \"activation\": \"silu\",\n",
    "    \"scale_file\": \"configs/s2ef/all/gemnet/scaling_factors/gemnet-dT.json\",\n",
    "    \"regress_forces\": True,\n",
    "    \"direct_forces\": True,\n",
    "}\n",
    "# Optimizer\n",
    "optimizer = {\n",
    "    'batch_size': 1,         # originally 32\n",
    "    'eval_batch_size': 1,    # originally 32\n",
    "    'num_workers': 2,\n",
    "    'lr_initial': 5.e-4,\n",
    "    'optimizer': 'AdamW',\n",
    "    'optimizer_params': {\"amsgrad\": True},\n",
    "    'scheduler': \"ReduceLROnPlateau\",\n",
    "    'mode': \"min\",\n",
    "    'factor': 0.8,\n",
    "    'patience': 3,\n",
    "    'max_epochs': 1,         # used for demonstration purposes\n",
    "    'force_coefficient': 100,\n",
    "    'ema_decay': 0.999,\n",
    "    'clip_grad_norm': 10,\n",
    "    'loss_energy': 'mae',\n",
    "    'loss_force': 'l2mae',\n",
    "}\n",
    "# Dataset\n",
    "dataset = [\n",
    "  {'src': train_src,\n",
    "   'normalize_labels': True,\n",
    "   \"target_mean\": mean,\n",
    "   \"target_std\": stdev,\n",
    "   \"grad_target_mean\": 0.0,\n",
    "   \"grad_target_std\": stdev\n",
    "   }, # train set \n",
    "  {'src': val_src}, # val set (optional)\n",
    "]"
   ]
  },
  {
   "cell_type": "markdown",
   "id": "35747a16-bbbc-4f43-8db9-48ffa4ce5d3c",
   "metadata": {
    "id": "8AsZpLjIQg-W"
   },
   "source": [
    "### Create the trainer"
   ]
  },
  {
   "cell_type": "code",
   "execution_count": null,
   "id": "7d4573dd-bd76-4815-8959-b01e6d5ce0df",
   "metadata": {
    "colab": {
     "base_uri": "https://localhost:8080/"
    },
    "id": "0it4gs6gPGGz",
    "outputId": "601322da-91df-4303-ca6b-ba4b12207598"
   },
   "outputs": [],
   "source": [
    "trainer = ForcesTrainer(\n",
    "    task=task,\n",
    "    model=copy.deepcopy(model), # copied for later use, not necessary in practice.\n",
    "    dataset=dataset,\n",
    "    optimizer=optimizer,\n",
    "    identifier=\"S2EF-example\",\n",
    "    run_dir=\"./\", # directory to save results if is_debug=False. Prediction files are saved here so be careful not to override!\n",
    "    is_debug=False, # if True, do not save checkpoint, logs, or results\n",
    "    print_every=5,\n",
    "    seed=0, # random seed to use\n",
    "    logger=\"tensorboard\", # logger of choice (tensorboard and wandb supported)\n",
    "    local_rank=0,\n",
    "    amp=True, # use PyTorch Automatic Mixed Precision (faster training and less memory usage),\n",
    ")"
   ]
  },
  {
   "cell_type": "code",
   "execution_count": null,
   "id": "f2304789-38d9-449a-9ff1-7407c125252e",
   "metadata": {
    "colab": {
     "base_uri": "https://localhost:8080/"
    },
    "id": "4yGWsRq3PF8R",
    "outputId": "03a15439-a769-47f1-f20c-2dfea28316eb",
    "tags": [
     "hide-output"
    ]
   },
   "outputs": [],
   "source": [
    "trainer.model"
   ]
  },
  {
   "cell_type": "markdown",
   "id": "612e72b4-a0ee-42c0-bd5d-186abfe22320",
   "metadata": {
    "id": "vA8nDKt4QqkO"
   },
   "source": [
    "### Train the model"
   ]
  },
  {
   "cell_type": "code",
   "execution_count": null,
   "id": "e74e4a43-2e1d-4582-8ef8-c9ed2f3a0670",
   "metadata": {
    "colab": {
     "base_uri": "https://localhost:8080/"
    },
    "id": "WFmssq5oPFd_",
    "outputId": "f86bf96a-d12c-45ac-c291-7569d4cc519a"
   },
   "outputs": [],
   "source": [
    "trainer.train()"
   ]
  },
  {
   "cell_type": "markdown",
   "id": "3600bd92-2a0d-4776-814f-b288aafaa076",
   "metadata": {
    "id": "ZHkrkULBQ1Xy"
   },
   "source": [
    "### Validate the model"
   ]
  },
  {
   "cell_type": "markdown",
   "id": "82cd1a0d-d676-4d58-bb1a-39bc4be179e3",
   "metadata": {
    "id": "paYx3_FBQ8OE"
   },
   "source": [
    "#### Load the best checkpoint\n",
    "\n",
    "The `checkpoints` directory contains two checkpoint files:\n",
    "\n",
    "\n",
    "\n",
    "*   `best_checkpoint.pt` - Model parameters corresponding to the best val performance during training. Used for predictions.\n",
    "*   `checkpoint.pt` - Model parameters and optimizer settings for the latest checkpoint. Used to continue training.\n",
    "\n",
    "\n",
    "\n"
   ]
  },
  {
   "cell_type": "code",
   "execution_count": null,
   "id": "1ff98cc1-5997-4225-85e5-7c4dafdee0a3",
   "metadata": {
    "colab": {
     "base_uri": "https://localhost:8080/"
    },
    "id": "UW4ihgBdQ0Yt",
    "outputId": "f16887c4-df20-4112-ad80-e5b51078dccd"
   },
   "outputs": [],
   "source": [
    "# The `best_checpoint.pt` file contains the checkpoint with the best val performance\n",
    "checkpoint_path = os.path.join(trainer.config[\"cmd\"][\"checkpoint_dir\"], \"best_checkpoint.pt\")\n",
    "checkpoint_path"
   ]
  },
  {
   "cell_type": "code",
   "execution_count": null,
   "id": "582f0fc6-9e7a-454d-8bc1-e6b2934da675",
   "metadata": {
    "colab": {
     "base_uri": "https://localhost:8080/"
    },
    "id": "6jppgncMTivj",
    "outputId": "9a99ec23-dd9a-41c9-b0cd-5d4a9c806fd3"
   },
   "outputs": [],
   "source": [
    "# Append the dataset with the test set. We use the same val set for demonstration.\n",
    "\n",
    "# Dataset\n",
    "dataset.append(\n",
    "  {'src': val_src}, # test set (optional)\n",
    ")\n",
    "dataset"
   ]
  },
  {
   "cell_type": "code",
   "execution_count": null,
   "id": "48628e1b-7874-4503-9b89-b2ec9f8291b3",
   "metadata": {
    "colab": {
     "base_uri": "https://localhost:8080/"
    },
    "id": "MaVROfxzRLaj",
    "outputId": "8e417c1d-9886-4504-fde0-a6035838d078"
   },
   "outputs": [],
   "source": [
    "pretrained_trainer = ForcesTrainer(\n",
    "    task=task,\n",
    "    model=model,\n",
    "    dataset=dataset,\n",
    "    optimizer=optimizer,\n",
    "    identifier=\"S2EF-val-example\",\n",
    "    run_dir=\"./\", # directory to save results if is_debug=False. Prediction files are saved here so be careful not to override!\n",
    "    is_debug=False, # if True, do not save checkpoint, logs, or results\n",
    "    print_every=10,\n",
    "    seed=0, # random seed to use\n",
    "    logger=\"tensorboard\", # logger of choice (tensorboard and wandb supported)\n",
    "    local_rank=0,\n",
    "    amp=True, # use PyTorch Automatic Mixed Precision (faster training and less memory usage)\n",
    ")\n",
    "\n",
    "pretrained_trainer.load_checkpoint(checkpoint_path=checkpoint_path)"
   ]
  },
  {
   "cell_type": "markdown",
   "id": "e408a74e-052a-46f4-8ae5-6e26b8fb4df5",
   "metadata": {
    "id": "kWetMgsmRBZS"
   },
   "source": [
    "#### Run on the test set"
   ]
  },
  {
   "cell_type": "code",
   "execution_count": null,
   "id": "d725ad56-dec8-4a24-895a-dbc53aea3521",
   "metadata": {
    "colab": {
     "base_uri": "https://localhost:8080/"
    },
    "id": "jbiPZNeJQ0WK",
    "outputId": "99f24d50-de6f-423a-8e0c-d9a2bdb6b009"
   },
   "outputs": [],
   "source": [
    "# make predictions on the existing test_loader\n",
    "predictions = pretrained_trainer.predict(pretrained_trainer.test_loader, results_file=\"s2ef_results\", disable_tqdm=False)"
   ]
  },
  {
   "cell_type": "code",
   "execution_count": null,
   "id": "e87d8866-1ccd-4dc8-a44c-6b9a24654762",
   "metadata": {
    "id": "zaZGqeyqNCXz"
   },
   "outputs": [],
   "source": [
    "energies = predictions[\"energy\"]\n",
    "forces = predictions[\"forces\"]"
   ]
  }
 ],
 "metadata": {
  "kernelspec": {
   "display_name": "Python 3 (ipykernel)",
   "language": "python",
   "name": "python3"
  },
  "language_info": {
   "codemirror_mode": {
    "name": "ipython",
    "version": 3
   },
   "file_extension": ".py",
   "mimetype": "text/x-python",
   "name": "python",
   "nbconvert_exporter": "python",
   "pygments_lexer": "ipython3",
   "version": "3.9.13"
  }
 },
 "nbformat": 4,
 "nbformat_minor": 5
}
