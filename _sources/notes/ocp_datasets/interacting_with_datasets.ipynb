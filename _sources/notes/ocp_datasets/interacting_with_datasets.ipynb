{
 "cells": [
  {
   "cell_type": "markdown",
   "id": "e25be415-5023-4c9e-b205-8325c25b4a00",
   "metadata": {
    "id": "uzDp10XsoHdo"
   },
   "source": [
    "# Interacting with the OC20 datasets\n",
    "\n",
    "The OC20 datasets are stored in LMDBs. Here we show how to interact with the datasets directly in order to better understand the data. We use two seperate classes to read in the approriate datasets:\n",
    "\n",
    "*S2EF* - We use the [TrajectoryLmdbDataset](https://github.com/Open-Catalyst-Project/ocp/blob/master/ocpmodels/datasets/trajectory_lmdb.py) object to read in a **directory** of LMDB files containing the dataset.\n",
    "\n",
    "*IS2RE/IS2RS* - We use the [SinglePointLmdbDataset](https://github.com/Open-Catalyst-Project/ocp/blob/master/ocpmodels/datasets/single_point_lmdb.py) class to read in a **single LMDB file** containing the dataset.\n",
    "\n"
   ]
  },
  {
   "cell_type": "markdown",
   "id": "dfc88b11-55a6-474b-9995-fbfca4f684ed",
   "metadata": {
    "id": "PoF-BxSM5Jkc"
   },
   "source": [
    "First, let's download the tutorial dataset [~1min]. "
   ]
  },
  {
   "cell_type": "code",
   "execution_count": null,
   "id": "1878858f-6058-4614-8bbc-9d3a9d6a1e31",
   "metadata": {},
   "outputs": [],
   "source": [
    "%%bash\n",
    "mkdir data\n",
    "cd data\n",
    "wget -q http://dl.fbaipublicfiles.com/opencatalystproject/data/tutorial_data.tar.gz -O tutorial_data.tar.gz\n",
    "tar -xzvf tutorial_data.tar.gz\n",
    "rm tutorial_data.tar.gz"
   ]
  },
  {
   "cell_type": "markdown",
   "id": "5d0e401d-eed9-4eae-99e7-dfdf14fbe6b9",
   "metadata": {},
   "source": [
    "Now, let's interact with the the lmdb files via the TrajectoryLmdbDataset interface!"
   ]
  },
  {
   "cell_type": "code",
   "execution_count": null,
   "id": "895b5a0e-36dc-4708-a110-e8907a6b93e7",
   "metadata": {
    "colab": {
     "base_uri": "https://localhost:8080/"
    },
    "id": "7F7BjxNQoGLn",
    "outputId": "41a6718a-ea96-4b5b-fffc-5e45fc9f470d"
   },
   "outputs": [],
   "source": [
    "from ocpmodels.datasets import SinglePointLmdbDataset, TrajectoryLmdbDataset\n",
    "\n",
    "# TrajectoryLmdbDataset is our custom Dataset method to read the lmdbs as Data objects. Note that we need to give the path to the folder containing lmdbs for S2EF\n",
    "dataset = TrajectoryLmdbDataset({\"src\": \"data/s2ef/train_100/\"})\n",
    "\n",
    "print(\"Size of the dataset created:\", len(dataset))\n",
    "print(dataset[0])"
   ]
  },
  {
   "cell_type": "code",
   "execution_count": null,
   "id": "ff7ff028-9a43-480a-a72d-c5b8a9a20a34",
   "metadata": {
    "colab": {
     "base_uri": "https://localhost:8080/"
    },
    "id": "pD5B_TymoJ8S",
    "outputId": "6f7c0db0-3eab-48d2-93a4-c625dcb5dae7"
   },
   "outputs": [],
   "source": [
    "data = dataset[0]\n",
    "data"
   ]
  },
  {
   "cell_type": "code",
   "execution_count": null,
   "id": "0035f95c-cfc7-4ac2-a2b5-681fda1e9b6d",
   "metadata": {
    "colab": {
     "base_uri": "https://localhost:8080/"
    },
    "id": "rL4u0glIoL8h",
    "outputId": "53062113-37b3-4ecc-b134-1b3c60489a11"
   },
   "outputs": [],
   "source": [
    "import torch\n",
    "\n",
    "energies = torch.tensor([data.y for data in dataset])\n",
    "energies"
   ]
  },
  {
   "cell_type": "code",
   "execution_count": null,
   "id": "3c437fb7-f897-4a01-8f1a-3b7e80574ec9",
   "metadata": {
    "colab": {
     "base_uri": "https://localhost:8080/",
     "height": 737
    },
    "id": "mkOm2roAoNY2",
    "outputId": "5ef9e135-5a61-402c-8f0a-5e1579cd17fb"
   },
   "outputs": [],
   "source": [
    "plt.hist(energies, bins=50)\n",
    "plt.yscale(\"log\")\n",
    "plt.xlabel(\"Energies\")\n",
    "plt.show()"
   ]
  }
 ],
 "metadata": {
  "kernelspec": {
   "display_name": "Python 3 (ipykernel)",
   "language": "python",
   "name": "python3"
  },
  "language_info": {
   "codemirror_mode": {
    "name": "ipython",
    "version": 3
   },
   "file_extension": ".py",
   "mimetype": "text/x-python",
   "name": "python",
   "nbconvert_exporter": "python",
   "pygments_lexer": "ipython3",
   "version": "3.9.13"
  }
 },
 "nbformat": 4,
 "nbformat_minor": 5
}
