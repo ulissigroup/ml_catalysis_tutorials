{
 "cells": [
  {
   "cell_type": "markdown",
   "id": "3fe3cbbd-1140-4056-b254-8118c419d8e0",
   "metadata": {
    "id": "Rzx0lArZJ6r0"
   },
   "source": [
    "# Using pre-trained OCP models as ASE calculators\n",
    "\n",
    "For those interested in using our pretrained models for other applications, we provide an [ASE](https://wiki.fysik.dtu.dk/ase/#:~:text=The%20Atomic%20Simulation%20Environment%20(ASE,under%20the%20GNU%20LGPL%20license.)-compatible Calculator to interface with ASE's functionality."
   ]
  },
  {
   "cell_type": "markdown",
   "id": "571534b6-9561-4173-a048-fc5b365be354",
   "metadata": {
    "id": "QGaXyeS_8yHp"
   },
   "source": [
    "## Download pretrained checkpoint\n",
    "\n",
    "We have released checkpoints of all the models on the leaderboard [here](https://github.com/Open-Catalyst-Project/ocp/blob/master/MODELS.md). These trained models can be used as an ASE calculator for various calculations.\n",
    "\n",
    "For this tutorial we download our current best model checkpoint: GemNet-T"
   ]
  },
  {
   "cell_type": "code",
   "execution_count": null,
   "id": "e51562dc-1d66-4cc0-ac3e-13a05b544810",
   "metadata": {
    "id": "MBCRi69284Ve"
   },
   "outputs": [],
   "source": [
    "!wget -q -nc https://dl.fbaipublicfiles.com/opencatalystproject/models/2021_08/s2ef/gemnet_t_direct_h512_all.pt\n",
    "checkpoint_path = \"gemnet_t_direct_h512_all.pt\""
   ]
  },
  {
   "cell_type": "markdown",
   "id": "5217872a-c7a6-45cb-b0dd-04c5da595e5c",
   "metadata": {
    "id": "TNQ1dNVG93kH"
   },
   "source": [
    "## Using the OCP Calculator\n"
   ]
  },
  {
   "cell_type": "code",
   "execution_count": null,
   "id": "961c3a23-1422-432e-91a5-3fb7532bd0af",
   "metadata": {
    "id": "o_MHpzbhPKN_"
   },
   "outputs": [],
   "source": [
    "import os\n",
    "\n",
    "import ase.io\n",
    "import numpy as np\n",
    "from ase.build import add_adsorbate, fcc100, molecule\n",
    "from ase.constraints import FixAtoms\n",
    "from ase.optimize import BFGS\n",
    "from ocpmodels.common.relaxation.ase_utils import OCPCalculator\n",
    "\n",
    "# Construct a sample structure\n",
    "adslab = fcc100(\"Cu\", size=(3, 3, 3))\n",
    "adsorbate = molecule(\"C3H8\")\n",
    "add_adsorbate(adslab, adsorbate, 3, offset=(1, 1))\n",
    "tags = np.zeros(len(adslab))\n",
    "tags[18:27] = 1\n",
    "tags[27:] = 2\n",
    "adslab.set_tags(tags)\n",
    "cons = FixAtoms(indices=[atom.index for atom in adslab if (atom.tag == 0)])\n",
    "adslab.set_constraint(cons)\n",
    "adslab.center(vacuum=13.0, axis=2)\n",
    "adslab.set_pbc(True)\n",
    "\n",
    "# Define the calculator\n",
    "calc = OCPCalculator(checkpoint=checkpoint_path)\n",
    "\n",
    "# Set up the calculator\n",
    "adslab.calc = calc\n",
    "\n",
    "os.makedirs(\"data/sample_ml_relax\", exist_ok=True)\n",
    "opt = BFGS(adslab, trajectory=\"data/sample_ml_relax/toy_c3h8_relax.traj\")\n",
    "\n",
    "opt.run(fmax=0.05, steps=100)"
   ]
  },
  {
   "cell_type": "code",
   "execution_count": null,
   "id": "ea4e4e56-d6d4-46de-a242-38245a02f43b",
   "metadata": {},
   "outputs": [],
   "source": [
    "import matplotlib.pyplot as plt\n",
    "from ase.visualize.plot import animate\n",
    "from matplotlib import rc\n",
    "\n",
    "# the `index` argument corresponds to what frame of the trajectory to read in, specifiying \":\" reads in the full trajectory.\n",
    "traj = ase.io.read(\"data/sample_ml_relax/toy_c3h8_relax.traj\", index=\":\")\n",
    "anim = animate(traj, radii=0.8, rotation=(\"-75x, 45y, 10z\"))\n",
    "\n",
    "rc(\"animation\", html=\"jshtml\")\n",
    "anim"
   ]
  },
  {
   "cell_type": "code",
   "execution_count": null,
   "id": "8d13c15d-1138-4b83-b676-240401553388",
   "metadata": {},
   "outputs": [],
   "source": [
    "import pandas as pd\n",
    "import plotly.express as px\n",
    "\n",
    "energies = [image.get_potential_energy() for image in traj]\n",
    "\n",
    "df = pd.DataFrame(\n",
    "    {\n",
    "        \"Relaxation Step\": range(len(energies)),\n",
    "        \"GemNet-T Adsorption Energy [eV]\": energies,\n",
    "    }\n",
    ")\n",
    "fig = px.line(df, x=\"Relaxation Step\", y=\"GemNet-T Adsorption Energy [eV]\")\n",
    "fig.show()"
   ]
  }
 ],
 "metadata": {
  "kernelspec": {
   "display_name": "Python 3 (ipykernel)",
   "language": "python",
   "name": "python3"
  },
  "language_info": {
   "codemirror_mode": {
    "name": "ipython",
    "version": 3
   },
   "file_extension": ".py",
   "mimetype": "text/x-python",
   "name": "python",
   "nbconvert_exporter": "python",
   "pygments_lexer": "ipython3",
   "version": "3.9.13"
  }
 },
 "nbformat": 4,
 "nbformat_minor": 5
}
